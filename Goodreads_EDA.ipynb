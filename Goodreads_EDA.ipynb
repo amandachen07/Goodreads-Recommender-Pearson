{
 "cells": [
  {
   "cell_type": "markdown",
   "id": "41f8f463",
   "metadata": {},
   "source": [
    "# Goodreads EDA"
   ]
  },
  {
   "cell_type": "markdown",
   "id": "5aa90fc7",
   "metadata": {},
   "source": [
    "## Load Modules"
   ]
  },
  {
   "cell_type": "code",
   "execution_count": 1,
   "id": "cb62b1b0",
   "metadata": {},
   "outputs": [],
   "source": [
    "# Load necessary libraries\n",
    "import pandas as pd\n",
    "import numpy as np\n",
    "import matplotlib.pyplot as plt\n",
    "import seaborn as sns\n",
    "import re\n",
    "%matplotlib inline"
   ]
  },
  {
   "cell_type": "markdown",
   "id": "7f0b8b74",
   "metadata": {},
   "source": [
    "## Load Dataset"
   ]
  },
  {
   "cell_type": "code",
   "execution_count": 2,
   "id": "c0795136",
   "metadata": {},
   "outputs": [],
   "source": [
    "df_orig_books = pd.read_csv('books_enriched.csv')\n",
    "df_orig_ratings = pd.read_csv('ratings.csv')"
   ]
  },
  {
   "cell_type": "code",
   "execution_count": 3,
   "id": "7fc71a1b",
   "metadata": {},
   "outputs": [],
   "source": [
    "pd.set_option('display.max_columns', None)\n",
    "pd.set_option('display.float_format', lambda x: '%.2f' % x)"
   ]
  },
  {
   "cell_type": "code",
   "execution_count": 4,
   "id": "8aea0192",
   "metadata": {},
   "outputs": [
    {
     "data": {
      "text/html": [
       "<div>\n",
       "<style scoped>\n",
       "    .dataframe tbody tr th:only-of-type {\n",
       "        vertical-align: middle;\n",
       "    }\n",
       "\n",
       "    .dataframe tbody tr th {\n",
       "        vertical-align: top;\n",
       "    }\n",
       "\n",
       "    .dataframe thead th {\n",
       "        text-align: right;\n",
       "    }\n",
       "</style>\n",
       "<table border=\"1\" class=\"dataframe\">\n",
       "  <thead>\n",
       "    <tr style=\"text-align: right;\">\n",
       "      <th></th>\n",
       "      <th>Unnamed: 0</th>\n",
       "      <th>index</th>\n",
       "      <th>authors</th>\n",
       "      <th>average_rating</th>\n",
       "      <th>best_book_id</th>\n",
       "      <th>book_id</th>\n",
       "      <th>books_count</th>\n",
       "      <th>description</th>\n",
       "      <th>genres</th>\n",
       "      <th>goodreads_book_id</th>\n",
       "      <th>image_url</th>\n",
       "      <th>isbn</th>\n",
       "      <th>isbn13</th>\n",
       "      <th>language_code</th>\n",
       "      <th>original_publication_year</th>\n",
       "      <th>original_title</th>\n",
       "      <th>pages</th>\n",
       "      <th>publishDate</th>\n",
       "      <th>ratings_1</th>\n",
       "      <th>ratings_2</th>\n",
       "      <th>ratings_3</th>\n",
       "      <th>ratings_4</th>\n",
       "      <th>ratings_5</th>\n",
       "      <th>ratings_count</th>\n",
       "      <th>small_image_url</th>\n",
       "      <th>title</th>\n",
       "      <th>work_id</th>\n",
       "      <th>work_ratings_count</th>\n",
       "      <th>work_text_reviews_count</th>\n",
       "      <th>authors_2</th>\n",
       "    </tr>\n",
       "  </thead>\n",
       "  <tbody>\n",
       "    <tr>\n",
       "      <th>0</th>\n",
       "      <td>0</td>\n",
       "      <td>0</td>\n",
       "      <td>['Suzanne Collins']</td>\n",
       "      <td>4.34</td>\n",
       "      <td>2767052</td>\n",
       "      <td>1</td>\n",
       "      <td>272</td>\n",
       "      <td>WINNING MEANS FAME AND FORTUNE.LOSING MEANS CE...</td>\n",
       "      <td>['young-adult', 'fiction', 'fantasy', 'science...</td>\n",
       "      <td>2767052</td>\n",
       "      <td>https://images.gr-assets.com/books/1447303603m...</td>\n",
       "      <td>439023483</td>\n",
       "      <td>9780440000000.00</td>\n",
       "      <td>eng</td>\n",
       "      <td>2008.00</td>\n",
       "      <td>The Hunger Games</td>\n",
       "      <td>374.00</td>\n",
       "      <td>09/14/08</td>\n",
       "      <td>66715</td>\n",
       "      <td>127936</td>\n",
       "      <td>560092</td>\n",
       "      <td>1481305</td>\n",
       "      <td>2706317</td>\n",
       "      <td>4780653</td>\n",
       "      <td>https://images.gr-assets.com/books/1447303603s...</td>\n",
       "      <td>The Hunger Games (The Hunger Games, #1)</td>\n",
       "      <td>2792775</td>\n",
       "      <td>4942365</td>\n",
       "      <td>155254</td>\n",
       "      <td>['Suzanne Collins']</td>\n",
       "    </tr>\n",
       "    <tr>\n",
       "      <th>1</th>\n",
       "      <td>1</td>\n",
       "      <td>1</td>\n",
       "      <td>['J.K. Rowling', 'Mary GrandPré']</td>\n",
       "      <td>4.44</td>\n",
       "      <td>3</td>\n",
       "      <td>2</td>\n",
       "      <td>491</td>\n",
       "      <td>Harry Potter's life is miserable. His parents ...</td>\n",
       "      <td>['fantasy', 'fiction', 'young-adult', 'classics']</td>\n",
       "      <td>3</td>\n",
       "      <td>https://images.gr-assets.com/books/1474154022m...</td>\n",
       "      <td>439554934</td>\n",
       "      <td>9780440000000.00</td>\n",
       "      <td>eng</td>\n",
       "      <td>1997.00</td>\n",
       "      <td>Harry Potter and the Philosopher's Stone</td>\n",
       "      <td>309.00</td>\n",
       "      <td>11/01/2003</td>\n",
       "      <td>75504</td>\n",
       "      <td>101676</td>\n",
       "      <td>455024</td>\n",
       "      <td>1156318</td>\n",
       "      <td>3011543</td>\n",
       "      <td>4602479</td>\n",
       "      <td>https://images.gr-assets.com/books/1474154022s...</td>\n",
       "      <td>Harry Potter and the Sorcerer's Stone (Harry P...</td>\n",
       "      <td>4640799</td>\n",
       "      <td>4800065</td>\n",
       "      <td>75867</td>\n",
       "      <td>['J.K. Rowling', 'Mary GrandPré']</td>\n",
       "    </tr>\n",
       "    <tr>\n",
       "      <th>2</th>\n",
       "      <td>2</td>\n",
       "      <td>2</td>\n",
       "      <td>['Stephenie Meyer']</td>\n",
       "      <td>3.57</td>\n",
       "      <td>41865</td>\n",
       "      <td>3</td>\n",
       "      <td>226</td>\n",
       "      <td>About three things I was absolutely positive.\\...</td>\n",
       "      <td>['young-adult', 'fantasy', 'romance', 'fiction...</td>\n",
       "      <td>41865</td>\n",
       "      <td>https://images.gr-assets.com/books/1361039443m...</td>\n",
       "      <td>316015849</td>\n",
       "      <td>9780320000000.00</td>\n",
       "      <td>eng</td>\n",
       "      <td>2005.00</td>\n",
       "      <td>Twilight</td>\n",
       "      <td>501.00</td>\n",
       "      <td>09/06/2006</td>\n",
       "      <td>456191</td>\n",
       "      <td>436802</td>\n",
       "      <td>793319</td>\n",
       "      <td>875073</td>\n",
       "      <td>1355439</td>\n",
       "      <td>3866839</td>\n",
       "      <td>https://images.gr-assets.com/books/1361039443s...</td>\n",
       "      <td>Twilight (Twilight, #1)</td>\n",
       "      <td>3212258</td>\n",
       "      <td>3916824</td>\n",
       "      <td>95009</td>\n",
       "      <td>['Stephenie Meyer']</td>\n",
       "    </tr>\n",
       "    <tr>\n",
       "      <th>3</th>\n",
       "      <td>3</td>\n",
       "      <td>3</td>\n",
       "      <td>['Harper Lee']</td>\n",
       "      <td>4.25</td>\n",
       "      <td>2657</td>\n",
       "      <td>4</td>\n",
       "      <td>487</td>\n",
       "      <td>The unforgettable novel of a childhood in a sl...</td>\n",
       "      <td>['classics', 'fiction', 'historical-fiction', ...</td>\n",
       "      <td>2657</td>\n",
       "      <td>https://images.gr-assets.com/books/1361975680m...</td>\n",
       "      <td>61120081</td>\n",
       "      <td>9780060000000.00</td>\n",
       "      <td>eng</td>\n",
       "      <td>1960.00</td>\n",
       "      <td>To Kill a Mockingbird</td>\n",
       "      <td>324.00</td>\n",
       "      <td>05/23/06</td>\n",
       "      <td>60427</td>\n",
       "      <td>117415</td>\n",
       "      <td>446835</td>\n",
       "      <td>1001952</td>\n",
       "      <td>1714267</td>\n",
       "      <td>3198671</td>\n",
       "      <td>https://images.gr-assets.com/books/1361975680s...</td>\n",
       "      <td>To Kill a Mockingbird</td>\n",
       "      <td>3275794</td>\n",
       "      <td>3340896</td>\n",
       "      <td>72586</td>\n",
       "      <td>['Harper Lee']</td>\n",
       "    </tr>\n",
       "    <tr>\n",
       "      <th>4</th>\n",
       "      <td>4</td>\n",
       "      <td>4</td>\n",
       "      <td>['F. Scott Fitzgerald']</td>\n",
       "      <td>3.89</td>\n",
       "      <td>4671</td>\n",
       "      <td>5</td>\n",
       "      <td>1356</td>\n",
       "      <td>Alternate Cover Edition ISBN: 0743273567 (ISBN...</td>\n",
       "      <td>['classics', 'fiction', 'historical-fiction', ...</td>\n",
       "      <td>4671</td>\n",
       "      <td>https://images.gr-assets.com/books/1490528560m...</td>\n",
       "      <td>743273567</td>\n",
       "      <td>9780740000000.00</td>\n",
       "      <td>eng</td>\n",
       "      <td>1925.00</td>\n",
       "      <td>The Great Gatsby</td>\n",
       "      <td>200.00</td>\n",
       "      <td>09/28/04</td>\n",
       "      <td>86236</td>\n",
       "      <td>197621</td>\n",
       "      <td>606158</td>\n",
       "      <td>936012</td>\n",
       "      <td>947718</td>\n",
       "      <td>2683664</td>\n",
       "      <td>https://images.gr-assets.com/books/1490528560s...</td>\n",
       "      <td>The Great Gatsby</td>\n",
       "      <td>245494</td>\n",
       "      <td>2773745</td>\n",
       "      <td>51992</td>\n",
       "      <td>['F. Scott Fitzgerald']</td>\n",
       "    </tr>\n",
       "  </tbody>\n",
       "</table>\n",
       "</div>"
      ],
      "text/plain": [
       "   Unnamed: 0  index                            authors  average_rating  \\\n",
       "0           0      0                ['Suzanne Collins']            4.34   \n",
       "1           1      1  ['J.K. Rowling', 'Mary GrandPré']            4.44   \n",
       "2           2      2                ['Stephenie Meyer']            3.57   \n",
       "3           3      3                     ['Harper Lee']            4.25   \n",
       "4           4      4            ['F. Scott Fitzgerald']            3.89   \n",
       "\n",
       "   best_book_id  book_id  books_count  \\\n",
       "0       2767052        1          272   \n",
       "1             3        2          491   \n",
       "2         41865        3          226   \n",
       "3          2657        4          487   \n",
       "4          4671        5         1356   \n",
       "\n",
       "                                         description  \\\n",
       "0  WINNING MEANS FAME AND FORTUNE.LOSING MEANS CE...   \n",
       "1  Harry Potter's life is miserable. His parents ...   \n",
       "2  About three things I was absolutely positive.\\...   \n",
       "3  The unforgettable novel of a childhood in a sl...   \n",
       "4  Alternate Cover Edition ISBN: 0743273567 (ISBN...   \n",
       "\n",
       "                                              genres  goodreads_book_id  \\\n",
       "0  ['young-adult', 'fiction', 'fantasy', 'science...            2767052   \n",
       "1  ['fantasy', 'fiction', 'young-adult', 'classics']                  3   \n",
       "2  ['young-adult', 'fantasy', 'romance', 'fiction...              41865   \n",
       "3  ['classics', 'fiction', 'historical-fiction', ...               2657   \n",
       "4  ['classics', 'fiction', 'historical-fiction', ...               4671   \n",
       "\n",
       "                                           image_url       isbn  \\\n",
       "0  https://images.gr-assets.com/books/1447303603m...  439023483   \n",
       "1  https://images.gr-assets.com/books/1474154022m...  439554934   \n",
       "2  https://images.gr-assets.com/books/1361039443m...  316015849   \n",
       "3  https://images.gr-assets.com/books/1361975680m...   61120081   \n",
       "4  https://images.gr-assets.com/books/1490528560m...  743273567   \n",
       "\n",
       "            isbn13 language_code  original_publication_year  \\\n",
       "0 9780440000000.00           eng                    2008.00   \n",
       "1 9780440000000.00           eng                    1997.00   \n",
       "2 9780320000000.00           eng                    2005.00   \n",
       "3 9780060000000.00           eng                    1960.00   \n",
       "4 9780740000000.00           eng                    1925.00   \n",
       "\n",
       "                             original_title  pages publishDate  ratings_1  \\\n",
       "0                          The Hunger Games 374.00    09/14/08      66715   \n",
       "1  Harry Potter and the Philosopher's Stone 309.00  11/01/2003      75504   \n",
       "2                                  Twilight 501.00  09/06/2006     456191   \n",
       "3                     To Kill a Mockingbird 324.00    05/23/06      60427   \n",
       "4                          The Great Gatsby 200.00    09/28/04      86236   \n",
       "\n",
       "   ratings_2  ratings_3  ratings_4  ratings_5  ratings_count  \\\n",
       "0     127936     560092    1481305    2706317        4780653   \n",
       "1     101676     455024    1156318    3011543        4602479   \n",
       "2     436802     793319     875073    1355439        3866839   \n",
       "3     117415     446835    1001952    1714267        3198671   \n",
       "4     197621     606158     936012     947718        2683664   \n",
       "\n",
       "                                     small_image_url  \\\n",
       "0  https://images.gr-assets.com/books/1447303603s...   \n",
       "1  https://images.gr-assets.com/books/1474154022s...   \n",
       "2  https://images.gr-assets.com/books/1361039443s...   \n",
       "3  https://images.gr-assets.com/books/1361975680s...   \n",
       "4  https://images.gr-assets.com/books/1490528560s...   \n",
       "\n",
       "                                               title  work_id  \\\n",
       "0            The Hunger Games (The Hunger Games, #1)  2792775   \n",
       "1  Harry Potter and the Sorcerer's Stone (Harry P...  4640799   \n",
       "2                            Twilight (Twilight, #1)  3212258   \n",
       "3                              To Kill a Mockingbird  3275794   \n",
       "4                                   The Great Gatsby   245494   \n",
       "\n",
       "   work_ratings_count  work_text_reviews_count  \\\n",
       "0             4942365                   155254   \n",
       "1             4800065                    75867   \n",
       "2             3916824                    95009   \n",
       "3             3340896                    72586   \n",
       "4             2773745                    51992   \n",
       "\n",
       "                           authors_2  \n",
       "0                ['Suzanne Collins']  \n",
       "1  ['J.K. Rowling', 'Mary GrandPré']  \n",
       "2                ['Stephenie Meyer']  \n",
       "3                     ['Harper Lee']  \n",
       "4            ['F. Scott Fitzgerald']  "
      ]
     },
     "execution_count": 4,
     "metadata": {},
     "output_type": "execute_result"
    }
   ],
   "source": [
    "df_orig_books.head()"
   ]
  },
  {
   "cell_type": "code",
   "execution_count": 5,
   "id": "dcd1aaed",
   "metadata": {},
   "outputs": [
    {
     "data": {
      "text/html": [
       "<div>\n",
       "<style scoped>\n",
       "    .dataframe tbody tr th:only-of-type {\n",
       "        vertical-align: middle;\n",
       "    }\n",
       "\n",
       "    .dataframe tbody tr th {\n",
       "        vertical-align: top;\n",
       "    }\n",
       "\n",
       "    .dataframe thead th {\n",
       "        text-align: right;\n",
       "    }\n",
       "</style>\n",
       "<table border=\"1\" class=\"dataframe\">\n",
       "  <thead>\n",
       "    <tr style=\"text-align: right;\">\n",
       "      <th></th>\n",
       "      <th>user_id</th>\n",
       "      <th>book_id</th>\n",
       "      <th>rating</th>\n",
       "    </tr>\n",
       "  </thead>\n",
       "  <tbody>\n",
       "    <tr>\n",
       "      <th>0</th>\n",
       "      <td>1</td>\n",
       "      <td>258</td>\n",
       "      <td>5</td>\n",
       "    </tr>\n",
       "    <tr>\n",
       "      <th>1</th>\n",
       "      <td>2</td>\n",
       "      <td>4081</td>\n",
       "      <td>4</td>\n",
       "    </tr>\n",
       "    <tr>\n",
       "      <th>2</th>\n",
       "      <td>2</td>\n",
       "      <td>260</td>\n",
       "      <td>5</td>\n",
       "    </tr>\n",
       "    <tr>\n",
       "      <th>3</th>\n",
       "      <td>2</td>\n",
       "      <td>9296</td>\n",
       "      <td>5</td>\n",
       "    </tr>\n",
       "    <tr>\n",
       "      <th>4</th>\n",
       "      <td>2</td>\n",
       "      <td>2318</td>\n",
       "      <td>3</td>\n",
       "    </tr>\n",
       "  </tbody>\n",
       "</table>\n",
       "</div>"
      ],
      "text/plain": [
       "   user_id  book_id  rating\n",
       "0        1      258       5\n",
       "1        2     4081       4\n",
       "2        2      260       5\n",
       "3        2     9296       5\n",
       "4        2     2318       3"
      ]
     },
     "execution_count": 5,
     "metadata": {},
     "output_type": "execute_result"
    }
   ],
   "source": [
    "df_orig_ratings.head()"
   ]
  },
  {
   "cell_type": "code",
   "execution_count": 6,
   "id": "292bcb3d",
   "metadata": {},
   "outputs": [],
   "source": [
    "df_orig_ratings.rename(columns={'rating': 'user_rating'}, inplace=True)"
   ]
  },
  {
   "cell_type": "markdown",
   "id": "e98b13b6",
   "metadata": {},
   "source": [
    "## Overview of data"
   ]
  },
  {
   "cell_type": "markdown",
   "id": "dc3b2797",
   "metadata": {},
   "source": [
    "### Books"
   ]
  },
  {
   "cell_type": "markdown",
   "id": "4a50c7ad",
   "metadata": {},
   "source": [
    "#### Columns, data types, and shape"
   ]
  },
  {
   "cell_type": "code",
   "execution_count": 7,
   "id": "06348666",
   "metadata": {
    "scrolled": false
   },
   "outputs": [
    {
     "name": "stdout",
     "output_type": "stream",
     "text": [
      "Number of rows: 10000\n",
      "Number of columns: 30\n",
      "Number of Duplicates: 0\n"
     ]
    },
    {
     "data": {
      "text/html": [
       "<div>\n",
       "<style scoped>\n",
       "    .dataframe tbody tr th:only-of-type {\n",
       "        vertical-align: middle;\n",
       "    }\n",
       "\n",
       "    .dataframe tbody tr th {\n",
       "        vertical-align: top;\n",
       "    }\n",
       "\n",
       "    .dataframe thead th {\n",
       "        text-align: right;\n",
       "    }\n",
       "</style>\n",
       "<table border=\"1\" class=\"dataframe\">\n",
       "  <thead>\n",
       "    <tr style=\"text-align: right;\">\n",
       "      <th></th>\n",
       "      <th>Column</th>\n",
       "      <th>Data Type</th>\n",
       "      <th>Number of Nulls</th>\n",
       "      <th>Number of Unique Values</th>\n",
       "    </tr>\n",
       "  </thead>\n",
       "  <tbody>\n",
       "    <tr>\n",
       "      <th>0</th>\n",
       "      <td>Unnamed: 0</td>\n",
       "      <td>int64</td>\n",
       "      <td>0</td>\n",
       "      <td>10000</td>\n",
       "    </tr>\n",
       "    <tr>\n",
       "      <th>1</th>\n",
       "      <td>index</td>\n",
       "      <td>int64</td>\n",
       "      <td>0</td>\n",
       "      <td>8770</td>\n",
       "    </tr>\n",
       "    <tr>\n",
       "      <th>2</th>\n",
       "      <td>authors</td>\n",
       "      <td>object</td>\n",
       "      <td>0</td>\n",
       "      <td>5057</td>\n",
       "    </tr>\n",
       "    <tr>\n",
       "      <th>3</th>\n",
       "      <td>average_rating</td>\n",
       "      <td>float64</td>\n",
       "      <td>0</td>\n",
       "      <td>184</td>\n",
       "    </tr>\n",
       "    <tr>\n",
       "      <th>4</th>\n",
       "      <td>best_book_id</td>\n",
       "      <td>int64</td>\n",
       "      <td>0</td>\n",
       "      <td>10000</td>\n",
       "    </tr>\n",
       "    <tr>\n",
       "      <th>5</th>\n",
       "      <td>book_id</td>\n",
       "      <td>int64</td>\n",
       "      <td>0</td>\n",
       "      <td>10000</td>\n",
       "    </tr>\n",
       "    <tr>\n",
       "      <th>6</th>\n",
       "      <td>books_count</td>\n",
       "      <td>int64</td>\n",
       "      <td>0</td>\n",
       "      <td>597</td>\n",
       "    </tr>\n",
       "    <tr>\n",
       "      <th>7</th>\n",
       "      <td>description</td>\n",
       "      <td>object</td>\n",
       "      <td>57</td>\n",
       "      <td>9772</td>\n",
       "    </tr>\n",
       "    <tr>\n",
       "      <th>8</th>\n",
       "      <td>genres</td>\n",
       "      <td>object</td>\n",
       "      <td>0</td>\n",
       "      <td>4351</td>\n",
       "    </tr>\n",
       "    <tr>\n",
       "      <th>9</th>\n",
       "      <td>goodreads_book_id</td>\n",
       "      <td>int64</td>\n",
       "      <td>0</td>\n",
       "      <td>10000</td>\n",
       "    </tr>\n",
       "    <tr>\n",
       "      <th>10</th>\n",
       "      <td>image_url</td>\n",
       "      <td>object</td>\n",
       "      <td>0</td>\n",
       "      <td>6669</td>\n",
       "    </tr>\n",
       "    <tr>\n",
       "      <th>11</th>\n",
       "      <td>isbn</td>\n",
       "      <td>object</td>\n",
       "      <td>700</td>\n",
       "      <td>9300</td>\n",
       "    </tr>\n",
       "    <tr>\n",
       "      <th>12</th>\n",
       "      <td>isbn13</td>\n",
       "      <td>float64</td>\n",
       "      <td>585</td>\n",
       "      <td>219</td>\n",
       "    </tr>\n",
       "    <tr>\n",
       "      <th>13</th>\n",
       "      <td>language_code</td>\n",
       "      <td>object</td>\n",
       "      <td>0</td>\n",
       "      <td>41</td>\n",
       "    </tr>\n",
       "    <tr>\n",
       "      <th>14</th>\n",
       "      <td>original_publication_year</td>\n",
       "      <td>float64</td>\n",
       "      <td>21</td>\n",
       "      <td>293</td>\n",
       "    </tr>\n",
       "    <tr>\n",
       "      <th>15</th>\n",
       "      <td>original_title</td>\n",
       "      <td>object</td>\n",
       "      <td>585</td>\n",
       "      <td>9274</td>\n",
       "    </tr>\n",
       "    <tr>\n",
       "      <th>16</th>\n",
       "      <td>pages</td>\n",
       "      <td>float64</td>\n",
       "      <td>73</td>\n",
       "      <td>950</td>\n",
       "    </tr>\n",
       "    <tr>\n",
       "      <th>17</th>\n",
       "      <td>publishDate</td>\n",
       "      <td>object</td>\n",
       "      <td>8</td>\n",
       "      <td>4670</td>\n",
       "    </tr>\n",
       "    <tr>\n",
       "      <th>18</th>\n",
       "      <td>ratings_1</td>\n",
       "      <td>int64</td>\n",
       "      <td>0</td>\n",
       "      <td>2630</td>\n",
       "    </tr>\n",
       "    <tr>\n",
       "      <th>19</th>\n",
       "      <td>ratings_2</td>\n",
       "      <td>int64</td>\n",
       "      <td>0</td>\n",
       "      <td>4117</td>\n",
       "    </tr>\n",
       "    <tr>\n",
       "      <th>20</th>\n",
       "      <td>ratings_3</td>\n",
       "      <td>int64</td>\n",
       "      <td>0</td>\n",
       "      <td>6972</td>\n",
       "    </tr>\n",
       "    <tr>\n",
       "      <th>21</th>\n",
       "      <td>ratings_4</td>\n",
       "      <td>int64</td>\n",
       "      <td>0</td>\n",
       "      <td>7762</td>\n",
       "    </tr>\n",
       "    <tr>\n",
       "      <th>22</th>\n",
       "      <td>ratings_5</td>\n",
       "      <td>int64</td>\n",
       "      <td>0</td>\n",
       "      <td>8103</td>\n",
       "    </tr>\n",
       "    <tr>\n",
       "      <th>23</th>\n",
       "      <td>ratings_count</td>\n",
       "      <td>int64</td>\n",
       "      <td>0</td>\n",
       "      <td>9003</td>\n",
       "    </tr>\n",
       "    <tr>\n",
       "      <th>24</th>\n",
       "      <td>small_image_url</td>\n",
       "      <td>object</td>\n",
       "      <td>0</td>\n",
       "      <td>6669</td>\n",
       "    </tr>\n",
       "    <tr>\n",
       "      <th>25</th>\n",
       "      <td>title</td>\n",
       "      <td>object</td>\n",
       "      <td>0</td>\n",
       "      <td>9964</td>\n",
       "    </tr>\n",
       "    <tr>\n",
       "      <th>26</th>\n",
       "      <td>work_id</td>\n",
       "      <td>int64</td>\n",
       "      <td>0</td>\n",
       "      <td>10000</td>\n",
       "    </tr>\n",
       "    <tr>\n",
       "      <th>27</th>\n",
       "      <td>work_ratings_count</td>\n",
       "      <td>int64</td>\n",
       "      <td>0</td>\n",
       "      <td>9053</td>\n",
       "    </tr>\n",
       "    <tr>\n",
       "      <th>28</th>\n",
       "      <td>work_text_reviews_count</td>\n",
       "      <td>int64</td>\n",
       "      <td>0</td>\n",
       "      <td>4581</td>\n",
       "    </tr>\n",
       "    <tr>\n",
       "      <th>29</th>\n",
       "      <td>authors_2</td>\n",
       "      <td>object</td>\n",
       "      <td>0</td>\n",
       "      <td>5057</td>\n",
       "    </tr>\n",
       "  </tbody>\n",
       "</table>\n",
       "</div>"
      ],
      "text/plain": [
       "                       Column Data Type  Number of Nulls  \\\n",
       "0                  Unnamed: 0     int64                0   \n",
       "1                       index     int64                0   \n",
       "2                     authors    object                0   \n",
       "3              average_rating   float64                0   \n",
       "4                best_book_id     int64                0   \n",
       "5                     book_id     int64                0   \n",
       "6                 books_count     int64                0   \n",
       "7                 description    object               57   \n",
       "8                      genres    object                0   \n",
       "9           goodreads_book_id     int64                0   \n",
       "10                  image_url    object                0   \n",
       "11                       isbn    object              700   \n",
       "12                     isbn13   float64              585   \n",
       "13              language_code    object                0   \n",
       "14  original_publication_year   float64               21   \n",
       "15             original_title    object              585   \n",
       "16                      pages   float64               73   \n",
       "17                publishDate    object                8   \n",
       "18                  ratings_1     int64                0   \n",
       "19                  ratings_2     int64                0   \n",
       "20                  ratings_3     int64                0   \n",
       "21                  ratings_4     int64                0   \n",
       "22                  ratings_5     int64                0   \n",
       "23              ratings_count     int64                0   \n",
       "24            small_image_url    object                0   \n",
       "25                      title    object                0   \n",
       "26                    work_id     int64                0   \n",
       "27         work_ratings_count     int64                0   \n",
       "28    work_text_reviews_count     int64                0   \n",
       "29                  authors_2    object                0   \n",
       "\n",
       "    Number of Unique Values  \n",
       "0                     10000  \n",
       "1                      8770  \n",
       "2                      5057  \n",
       "3                       184  \n",
       "4                     10000  \n",
       "5                     10000  \n",
       "6                       597  \n",
       "7                      9772  \n",
       "8                      4351  \n",
       "9                     10000  \n",
       "10                     6669  \n",
       "11                     9300  \n",
       "12                      219  \n",
       "13                       41  \n",
       "14                      293  \n",
       "15                     9274  \n",
       "16                      950  \n",
       "17                     4670  \n",
       "18                     2630  \n",
       "19                     4117  \n",
       "20                     6972  \n",
       "21                     7762  \n",
       "22                     8103  \n",
       "23                     9003  \n",
       "24                     6669  \n",
       "25                     9964  \n",
       "26                    10000  \n",
       "27                     9053  \n",
       "28                     4581  \n",
       "29                     5057  "
      ]
     },
     "execution_count": 7,
     "metadata": {},
     "output_type": "execute_result"
    }
   ],
   "source": [
    "#show shape and number of duplicates\n",
    "print('Number of rows: %d' % df_orig_books.shape[0])\n",
    "print('Number of columns: %d' % df_orig_books.shape[1])\n",
    "print('Number of Duplicates: {}'.format(len(df_orig_books[df_orig_books.duplicated()])))\n",
    "\n",
    "# Show data type, number of nulls and number of unique values for each column\n",
    "dtype_list = []\n",
    "null_list = []\n",
    "nunique_list = []\n",
    "\n",
    "for c in df_orig_books.columns:\n",
    "    dtype_list.append(df_orig_books[c].dtypes)\n",
    "    null_list.append(df_orig_books[c].isnull().sum())\n",
    "    nunique_list.append(df_orig_books[c].nunique())\n",
    "    \n",
    "summary = pd.DataFrame(list(zip(df_orig_books.columns, dtype_list, null_list, nunique_list)),\n",
    "                         columns = ['Column', 'Data Type', 'Number of Nulls', 'Number of Unique Values'])\n",
    "\n",
    "summary"
   ]
  },
  {
   "cell_type": "code",
   "execution_count": 8,
   "id": "7b20255d",
   "metadata": {
    "scrolled": true
   },
   "outputs": [
    {
     "name": "stdout",
     "output_type": "stream",
     "text": [
      "\n",
      "Categories in \"authors\":\n",
      "[\"Bill O'Reilly\", 'Martin Dugard']            3\n",
      "[\"Bryan Lee O'Malley\", 'Nathan Fairbairn']    1\n",
      "[\"Bryan Lee O'Malley\", 'Steve Buccellato']    1\n",
      "[\"Bryan Lee O'Malley\"]                        5\n",
      "[\"Caragh M. O'Brien\"]                         2\n",
      "                                             ..\n",
      "['منى المرشود']                               1\n",
      "['نور عبدالمجيد']                             1\n",
      "['ياسر حارب']                                 1\n",
      "['يوسف زيدان', 'Youssef Ziedan']              2\n",
      "['يوسف زيدان']                                2\n",
      "Name: authors, Length: 5057, dtype: int64\n",
      "\n",
      "Categories in \"description\":\n",
      "\\n\\n\\nIn the thrilling new novel by the New York Times bestselling author of An Incomplete Revenge, Maisie Dobbs must catch a madman before he commits murder on an unimaginable scale\\n\\nIt’s Christmas Eve 1931. On the way to see a client, Maisie Dobbs witnesses a man commit suicide on a busy London street. The following day, the prime minister’s office receives a letter threatening a massive loss of life if certain demands are not met—and the writer mentions Maisie by name. After being questioned and cleared by Detective Chief Superintendent Robert MacFarlane of Scotland Yard’s elite Special Branch, she is drawn into MacFarlane’s personal fiefdom as a special adviser on the case. Meanwhile, Billy Beale, Maisie’s trusted assistant, is once again facing tragedy as his wife, who has never recovered from the death of their young daughter, slips further into melancholia’s abyss. Soon Maisie becomes involved in a race against time to find a man who proves he has the knowledge and will to inflict death and destruction on thousands of innocent people. And before this harrowing case is over, Maisie must navigate a darkness not encountered since she was a nurse in wards filled with shell-shocked men.\\nIn Among the Mad, Jacqueline Winspear combines a heart-stopping story with a rich evocation of a fascinating period to create her most compelling and satisfying novel yet.\\n\\n                                                                       1\n",
      "\\n\\nEvery woman has a secret. The question is: How far will she go to make sure it stays secret?\\nAbbey Walsh never wanted anyone to find out about her shady past. After all, she's the wife of a minister now, living an exemplary life. That is, until someone shows up from her past with blackmail in mind . . .\\nTiffany Vanderslice Dreyer never dreamed that she'd find herself up to her new designer sunglasses in credit card debt from one mad moment of a shopping spree. She's an upstanding wife and mother with the perfect marriage . . . right? \\nLoreen Murphy hadn't meant to hire a male prostitute in Las Vegas. It was all just a big, stupid, and expensive misunderstanding. . . .\\nAbbey, Tiffany, and Loreen are each in need of thousands of dollars and fast. Tiffany's sister, Sandra, has the perfect idea. It's fast, it's easy, it's legal, and it's the secret that kept her shoe addiction alive. It's the perfect plan. . . .\\nIn this deliciously sassy novel, three very different women bond when they find themselves in more than one kind of trouble. It's the story of how sometimes you have a secret that can get you in---and out---of dire straits. It's about romance, friendship, kids, revenge, affairs, and, most of all, a love of the well-heeled things in life. \\n\\n                                                                                                                                                                                      1\n",
      "\\n\\nJohn Wayne Cleaver is dangerous, and he knows it.He's spent his life doing his best not to live up to his potential.He's obsessed with serial killers, but really doesn't want to become one. So for his own sake, and the safety of those around him, he lives by rigid rules he's written for himself, practicing normal life as if it were a private religion that could save him from damnation.Dead bodies are normal to John. He likes them, actually. They don't demand or expect the empathy he's unable to offer. Perhaps that's what gives him the objectivity to recognize that there's something different about the body the police have just found behind the Wash-n-Dry Laundromat---and to appreciate what that difference means.Now, for the first time, John has to confront a danger outside himself, a threat he can't control, a menace to everything and everyone he would love, if only he could.Dan Wells' debut novel is the first volume of a trilogy that will keep you awake and then haunt your dreams.\\n\\n                                                                                                                                                                                                                                                                                                                                                                                                                                                                     1\n",
      "\\n\"Happy Holidays 2015! It has been a rough year for the Quinns, but I would like to start by saying thank you for all of the well wishes and positive missives sent our way.\"\\nAnother Christmas on Nantucket finds Winter Street Inn owner Kelley Quinn reflecting on the past year as he writes a holiday letter to friends and family. Though the year has had its share of misfortune and worry, the Quinns have much to celebrate. Kelley, now single, at least is on better terms with his first wife Margaret, who is using her celebrity to lure customers to the inn in record numbers. Their son Kevin has a beautiful new baby, Genevieve, with the Inn's French housekeeper, Isabelle; and their daughter, Ava, is finally dating a nice guy--her devoted colleague, Scott. Now the Quinns are looking forward to celebrating Genevieve's baptism, welcoming Isabelle to the family, and enjoying the cheer of Nantucket's traditional Christmas Stroll. But just when a peaceful family gathering seems within reach, Kelley's estranged second wife, Mitzi, shows up on the island after souring on her relationship with the inn's former Santa Claus. Soon Kelley isn't the only Quinn entertaining a surprise guest from Christmases past as lovers old and new gather beneath the mistletoe. With jealousy, passion, and eggnog consumption at an all-time high, it's going to take a whole lot more than a Christmas miracle to get the Quinns--and the inn--through the holidays intact.    1\n",
      "\\n1 ill-fated hot dog costume. 2 former BFFs. 11 days to seduce a boy. \\nAvery James doesn’t believe in romance—she’s studied enough biology to know that love is nothing more than hormones and chemicals. Besides, she has more practical goals in mind, namely saving up for a summer humanitarian program in Costa Rica. But when her Diggity Dog House supervisor denies her a raise and Avery finds herself $500 dollars short for the trip of a lifetime, Avery has no choice but to accept an unexpected offer. The deal? She must steal her arch nemesis Hannah’s boyfriend before prom, giving Avery eleven days to seduce Zac Greeley. Avery is sure the job will be easy. But a few midnight comedy shows and spontaneous dance parties (not to mention one particularly intimate carwash) later, Avery finds herself questioning everything she’s ever thought about love. Could Zac’s signature cherry-lime Slurpees be causing brain freeze, or is Avery actually starting to fall for him? Will Avery be able to steal Zac away from Hannah before he steals Avery’s heart?                                                                                                                                                                                                                                                                                                                                                                                                                      1\n",
      "                                                                                                                                                                                                                                                                                                                                                                                                                                                                                                                                                                                                                                                                                                                                                                                                                                                                                                                                                                                                                                                                                                                                                                                                                                                                                                                                                                                                                                                                                                                ..\n",
      "四大公爵家ベザリウス家の次期当主・オズ＝ベザリウスは、15歳の成人の儀の最中に身に覚えのない罪によって、闇の監獄・アヴィスへと堕とされる。アヴィスの中に閉じ込められた彼はそこで「血染めの黒うさぎ（ビーラビット）」と呼ばれるチェインのアリスと出会い、彼女と契約を交わすことでアヴィスから脱出することに成功するが…。                                                                                                                                                                                                                                                                                                                                                                                                                                                                                                                                                                                                                                                                                                                                                                                                                                                                                                                                                                                                                                                                                                                                                                                                                                                                                                                                                     1\n",
      "大ヒット作「美少女戦士セーラームーン」が新装版に! カバーはすべて描き下ろし!                                                                                                                                                                                                                                                                                                                                                                                                                                                                                                                                                                                                                                                                                                                                                                                                                                                                                                                                                                                                                                                                                                                                                                                                                                                                                                                                                                                                                                                                          1\n",
      "ﻳﺼﻒ ﻟﻨﺎ ﻧﺠﻴﺐ ﻣﺤﻔﻮﻅ ﺳﻌﻲ ﺍﻟﻨﻔﺲ ﺍﻟﺒﺸﺮﻳﺔ ﺍﻟﺪﺍﺋﻢ ﺍﻟﻰ ﺍﻟﺨﻼﺹ ﻭﺗﻤﺮﺩﻫﺎ ﻋﻠﻰ ﻧﻔﺴﻬﺎ ﺍﻟﺘﻲ ﺍﺭﺗﻀﺖ ﺑﺎﻟﻮﺍﻗﻊ ﺍﻟﻤﺮﻳﺮ، ﻓﺘﺤﺜﻬﺎ ﺩﺍﺋﻤﺎ ﺍﻟﻰ ﺍﻟﺨﻼﺹ، ﻭﺍﻟﺨﺮﻭﺝ ﻣﻦ ﻧﻔﻖ ﺍﻟﻨﻔﺲ ﺍﻟﻤﻈﻠﻢ، ﻭﻟﻜﻨﻬﺎ ﺗﺼﻄﺪﻡ ﺩﺍﺋﻤﺎ ﺑﺤﺐ ﺍﻟﺪﻧﻴﺎ ﻭﺍﻏﻮﺍﺋﺎﺗﻬﺎ ﺍﻟﻼﻣﺤﺪﻭﺩﺓ ﻭﻫﻨﺎ ﻳﻜﻮﻥ ﻣﻔﺘﺮﻕ ﺍﻟﻄﺮﻕ ﺍﻟﺬﻱ ﺗﺨﺘﺎﺭ ﻓﻴﻪ ﺍﻟﻨﻔﺲ ﺍﻣﺎ ﺍﻟﺴﻴﺮ ﻋﻠﻰ ﺧﻄﻰ ﺍﻟﺼﺎﻟﺤﻴﻦ ﺍﻷﻭﺍﺋﻞ ﺃﻭ ﺍﻟﺤﻴﺎﺩ ﻋﻦ ﻃﺮﻳﻘﻬﻢ ﻭﺍﻳﺜﺎﺭ ﺷﻬﻮﺍﺗﻬﺎ ﺍﻟﺪﺍﺧﻠﻴﺔ، ﻛﻤﺎ ﻳﺼﻒ ﻟﻨﺎ ﺍﻟﺨﻨﻮﻉ ﻭﺍﻟﺬﻝ ﺍﻟﺬﻱ ﻳﺼﻴﺐ ﺍﻟﻨﻔﺲ ﻣﻦ ﺟﺮﺍﺀ ﻳﺄﺳﻬﺎ ﻣﻦ ﺧﻼﺻﻬﺎ، ﻭﺟﻬﻠﻬﺎ ﺑﺄﻥ ﺍﻟﺨﻼﺹ ﺍﻟﺤﻘﻴﻘﻲ ﻫﻮ ﺍﻟﻨﺎﺑﻊ ﻣﻦ ﺩﺍﺧﻠﻬﺎ ﻻ ﺍﻟﻤﺴﻠﻂ ﻋﻠﻴﻬﺎ ﻣﻦ ﺍﻟﺨﺎﺭﺝ ﻓﻬﻮ ﺧﻼﺹ ﺯﺍﺋﻒ ﺳﺮﻋﺎﻥ ﻣﺎ ﻳﺘﺒﺨﺮ ﻭﻳﺬﻫﺐ ﺭﻳﺤﻪ ﻭﺗﺒﻘﻰ ﺍﻟﻨﻔﺲ ﻓﻲ ﻇﻠﻤﺎﺗﻬﺎ ﺗﺒﻜﻲ ﻋﻠﻰ ﻣﺎﺽ ﻗﺪ ﺗﻮﻟﻰ ﻭﺫﻛﺮﻳﺎﺕ ﻟﻦ ﺗﻌﻮﺩ. كل ذلك في ملحمة رائعة يظهر فيها تعاقب اﻷجيال على مدى قرنين من الزمان من خلال عشر قصص لطالما كانت نبعا للسينما المصرية تنهل منه.                                                                                                                                                                                                                                                                                                                                                                                                                                                                                                                                                                                                                                                                                                                                                                                                  1\n",
      "﻿Called a \"magnificently crafted story . . . brimming with wisdom\" by Howard Frank Mosher in The Washington Post Book World, Crossing to Safety has, since its publication in 1987, established itself as one of the greatest and most cherished American novels of the twentieth century. Tracing the lives, loves, and aspirations of two couples who move between Vermont and Wisconsin, it is a work of quiet majesty, deep compassion, and powerful insight into the alchemy of friendship and marriage.                                                                                                                                                                                                                                                                                                                                                                                                                                                                                                                                                                                                                                                                                                                                                                                                                                                                                                                                                                                                    1\n",
      "（奈斯博作品集 2） (北歐犯罪小說) (Traditional Chinese Edition)盲目的正義，冷血的懲罰。當愛與恨走到極端，只有復仇，我才能活下去！哈利．霍勒，警局的頭痛人物，同事眼中的瘋子酒鬼，大家都說他總有一天要闖禍。這次，他終於捅了大漏子，竟然成為命案頭號嫌犯！當他終於接近事件真相，才明白復仇女神手上的秤與劍，這次指向了自己……沒有懲罰，就沒有正義，復仇，是上帝賜給人類最美好也最危險的毒藥！奧斯陸市中心發生一樁詭異的銀行搶案，一名搶匪在光天化日下走進銀行，不到兩分鐘便搶走兩百萬克朗、還槍殺了一名人質，而且沒有留下任何可供鑑識的證據。因為這樁棘手的案件，哈利被暫調到搶案組幫忙調查，他和新進女警貝雅特從監視器畫面發現，被當作人質的銀行女職員，在臨死之前，竟然向搶匪懺悔：「都是我的錯。」然而，除了銀行搶案，哈利還有一個更大的麻煩得解決。在一次和前女友安娜的晚餐約會後，哈利有如宿醉般醒來，不但喪失了12小時的記憶，還弄丟了手機。最糟的是，他隨後奉命去支援的命案現場，死者竟然就是安娜。她陳屍床上，手中握著槍，頭上有個彈孔。雖然種種跡象皆表明她是自殺，哈利卻開始接到恐嚇電子郵件，彷彿有人對他那晚的行蹤瞭若指掌……當搶案再次發生，束手無策的哈                                                                                                                                                                                                                                                                                                                                                                                                                                                                                                                                                                                                                                                                                                                                                                                                                                                                                                                                                            1\n",
      "Name: description, Length: 9772, dtype: int64\n",
      "\n",
      "Categories in \"genres\":\n",
      "['art', 'biography', 'history', 'nonfiction', 'classics']                                                   1\n",
      "['art', 'biography', 'memoir', 'nonfiction', 'graphic-novels']                                              1\n",
      "['art', 'biography', 'nonfiction', 'history', 'memoir', 'fiction']                                          1\n",
      "['art', 'biography', 'nonfiction', 'history', 'memoir']                                                     1\n",
      "['art', 'biography', 'nonfiction', 'history']                                                               2\n",
      "                                                                                                           ..\n",
      "['young-adult', 'science-fiction', 'romance', 'fiction', 'fantasy']                                         1\n",
      "['young-adult', 'science-fiction', 'romance', 'paranormal', 'fantasy', 'mystery', 'fiction', 'thriller']    1\n",
      "['young-adult', 'sports', 'contemporary', 'romance', 'fiction', 'chick-lit']                                1\n",
      "['young-adult', 'sports', 'fiction', 'contemporary']                                                        1\n",
      "['young-adult', 'thriller', 'mystery', 'fiction', 'horror', 'contemporary', 'suspense']                     1\n",
      "Name: genres, Length: 4351, dtype: int64\n",
      "\n",
      "Categories in \"image_url\":\n",
      "https://images.gr-assets.com/books/1156897088m/350.jpg                                         1\n",
      "https://images.gr-assets.com/books/1159814395m/2095.jpg                                        1\n",
      "https://images.gr-assets.com/books/1163789140m/3478.jpg                                        1\n",
      "https://images.gr-assets.com/books/1165519096m/5367.jpg                                        1\n",
      "https://images.gr-assets.com/books/1166154337m/10365.jpg                                       1\n",
      "                                                                                            ... \n",
      "https://images.gr-assets.com/books/1502300279m/43886.jpg                                       1\n",
      "https://images.gr-assets.com/books/1502523710m/192510.jpg                                      1\n",
      "https://images.gr-assets.com/books/1503066414m/19501.jpg                                       1\n",
      "https://images.gr-assets.com/books/1503127212m/10889279.jpg                                    1\n",
      "https://s.gr-assets.com/assets/nophoto/book/111x148-bcc042a9c91a29c1d680899eff700a03.png    3332\n",
      "Name: image_url, Length: 6669, dtype: int64\n",
      "\n",
      "Categories in \"isbn\":\n",
      "000100039X    1\n",
      "000224618X    1\n",
      "000649885X    1\n",
      "000675399X    1\n",
      "000710653X    1\n",
      "             ..\n",
      "99690608      1\n",
      "99771810      1\n",
      "99910101      1\n",
      "9991373764    1\n",
      "9993911550    1\n",
      "Name: isbn, Length: 9300, dtype: int64\n",
      "\n",
      "Categories in \"language_code\":\n",
      "af        1\n",
      "ara      64\n",
      "cs        2\n",
      "da        7\n",
      "dan       3\n",
      "de       33\n",
      "eng    9680\n",
      "es       21\n",
      "et        1\n",
      "fi        1\n",
      "fil       2\n",
      "fr       18\n",
      "fre      25\n",
      "ger      13\n",
      "hu        1\n",
      "id        1\n",
      "ind      21\n",
      "is        1\n",
      "it       13\n",
      "ita       2\n",
      "jpn       7\n",
      "lt        1\n",
      "ms        3\n",
      "mt        3\n",
      "mul       1\n",
      "nl        7\n",
      "no        1\n",
      "nor       3\n",
      "per       7\n",
      "pl        6\n",
      "pol       6\n",
      "por       6\n",
      "ro        7\n",
      "rum       1\n",
      "rus       1\n",
      "spa      20\n",
      "sv        6\n",
      "swe       1\n",
      "tur       1\n",
      "vie       1\n",
      "zh        1\n",
      "Name: language_code, dtype: int64\n",
      "\n",
      "Categories in \"original_title\":\n",
      "                                                                 5\n",
      " A Monster Calls                                                 1\n",
      " Animal Farm & 1984                                              1\n",
      " Burned (Burned, #1)                                             1\n",
      " Call the midwife : a true story of the East End in the 1950s    1\n",
      "                                                                ..\n",
      "黒執事 I [Kuroshitsuji I]                                           1\n",
      "黒執事 II [Kuroshitsuji II]                                         1\n",
      "黒執事 III [Kuroshitsuji III]                                       1\n",
      "엄마를 부탁해                                                          1\n",
      "채식주의자                                                            1\n",
      "Name: original_title, Length: 9274, dtype: int64\n",
      "\n"
     ]
    },
    {
     "name": "stdout",
     "output_type": "stream",
     "text": [
      "Categories in \"publishDate\":\n",
      "('1', '1', '1982')                                                                                            1\n",
      "('1', '1', '1990')                                                                                            1\n",
      "('1', '1', '1993')                                                                                            3\n",
      "('1', '1', '1994')                                                                                            1\n",
      "('1', '1', '1997')                                                                                            1\n",
      "                                                                                                             ..\n",
      "September 9th 2008                                                                                            3\n",
      "September 9th 2010                                                                                            1\n",
      "September 9th 2013                                                                                            1\n",
      "September 9th 2014                                                                                            7\n",
      "The Best of Paulo Coelho\\n\\n31 books — 835 voters\\nأفضل الكتب للقراءة في السفر\\n\\n728 books — 1,104 voters    1\n",
      "Name: publishDate, Length: 4670, dtype: int64\n",
      "\n",
      "Categories in \"small_image_url\":\n",
      "https://images.gr-assets.com/books/1156897088s/350.jpg                                       1\n",
      "https://images.gr-assets.com/books/1159814395s/2095.jpg                                      1\n",
      "https://images.gr-assets.com/books/1163789140s/3478.jpg                                      1\n",
      "https://images.gr-assets.com/books/1165519096s/5367.jpg                                      1\n",
      "https://images.gr-assets.com/books/1166154337s/10365.jpg                                     1\n",
      "                                                                                          ... \n",
      "https://images.gr-assets.com/books/1502300279s/43886.jpg                                     1\n",
      "https://images.gr-assets.com/books/1502523710s/192510.jpg                                    1\n",
      "https://images.gr-assets.com/books/1503066414s/19501.jpg                                     1\n",
      "https://images.gr-assets.com/books/1503127212s/10889279.jpg                                  1\n",
      "https://s.gr-assets.com/assets/nophoto/book/50x75-a91bf249278a81aabab721ef782c4a74.png    3332\n",
      "Name: small_image_url, Length: 6669, dtype: int64\n",
      "\n",
      "Categories in \"title\":\n",
      " Angels (Walsh Family, #3)                                    1\n",
      "\"حكايات فرغلي المستكاوي \"حكايتى مع كفر السحلاوية              1\n",
      "#GIRLBOSS                                                     1\n",
      "'Salem's Lot                                                  2\n",
      "'Tis (Frank McCourt, #2)                                      1\n",
      "                                                             ..\n",
      "واحة الغروب                                                   1\n",
      "يوتوبيا                                                       1\n",
      "ڤيرتيجو                                                       1\n",
      "キスよりも早く1 [Kisu Yorimo Hayaku 1] (Faster than a Kiss #1)       1\n",
      "美少女戦士セーラームーン新装版 1 [Bishōjo Senshi Sailor Moon Shinsōban 1]    1\n",
      "Name: title, Length: 9964, dtype: int64\n",
      "\n",
      "Categories in \"authors_2\":\n",
      "[\"Bill O'Reilly\", 'Martin Dugard']            3\n",
      "[\"Bryan Lee O'Malley\", 'Nathan Fairbairn']    1\n",
      "[\"Bryan Lee O'Malley\", 'Steve Buccellato']    1\n",
      "[\"Bryan Lee O'Malley\"]                        5\n",
      "[\"Caragh M. O'Brien\"]                         2\n",
      "                                             ..\n",
      "['منى المرشود']                               1\n",
      "['نور عبدالمجيد']                             1\n",
      "['ياسر حارب']                                 1\n",
      "['يوسف زيدان', 'Youssef Ziedan']              2\n",
      "['يوسف زيدان']                                2\n",
      "Name: authors_2, Length: 5057, dtype: int64\n"
     ]
    }
   ],
   "source": [
    "#unique values in each non-numerical column\n",
    "df_orig_books_obj = df_orig_books.select_dtypes(exclude=\"number\")\n",
    "\n",
    "for col in df_orig_books_obj.columns:\n",
    "    print ('\\nCategories in \"%s\":'%col)\n",
    "    print (df_orig_books_obj[col].value_counts().sort_index())"
   ]
  },
  {
   "cell_type": "markdown",
   "id": "6122d9c7",
   "metadata": {},
   "source": [
    "#### Summary statistics"
   ]
  },
  {
   "cell_type": "code",
   "execution_count": 9,
   "id": "1b1e365c",
   "metadata": {
    "scrolled": true
   },
   "outputs": [
    {
     "data": {
      "text/html": [
       "<div>\n",
       "<style scoped>\n",
       "    .dataframe tbody tr th:only-of-type {\n",
       "        vertical-align: middle;\n",
       "    }\n",
       "\n",
       "    .dataframe tbody tr th {\n",
       "        vertical-align: top;\n",
       "    }\n",
       "\n",
       "    .dataframe thead th {\n",
       "        text-align: right;\n",
       "    }\n",
       "</style>\n",
       "<table border=\"1\" class=\"dataframe\">\n",
       "  <thead>\n",
       "    <tr style=\"text-align: right;\">\n",
       "      <th></th>\n",
       "      <th>count</th>\n",
       "      <th>mean</th>\n",
       "      <th>std</th>\n",
       "      <th>min</th>\n",
       "      <th>25%</th>\n",
       "      <th>50%</th>\n",
       "      <th>75%</th>\n",
       "      <th>max</th>\n",
       "    </tr>\n",
       "  </thead>\n",
       "  <tbody>\n",
       "    <tr>\n",
       "      <th>Unnamed: 0</th>\n",
       "      <td>10000.00</td>\n",
       "      <td>4999.50</td>\n",
       "      <td>2886.90</td>\n",
       "      <td>0.00</td>\n",
       "      <td>2499.75</td>\n",
       "      <td>4999.50</td>\n",
       "      <td>7499.25</td>\n",
       "      <td>9999.00</td>\n",
       "    </tr>\n",
       "    <tr>\n",
       "      <th>index</th>\n",
       "      <td>10000.00</td>\n",
       "      <td>4526.32</td>\n",
       "      <td>2567.92</td>\n",
       "      <td>0.00</td>\n",
       "      <td>2351.75</td>\n",
       "      <td>4567.50</td>\n",
       "      <td>6661.25</td>\n",
       "      <td>9999.00</td>\n",
       "    </tr>\n",
       "    <tr>\n",
       "      <th>average_rating</th>\n",
       "      <td>10000.00</td>\n",
       "      <td>4.00</td>\n",
       "      <td>0.25</td>\n",
       "      <td>2.47</td>\n",
       "      <td>3.85</td>\n",
       "      <td>4.02</td>\n",
       "      <td>4.18</td>\n",
       "      <td>4.82</td>\n",
       "    </tr>\n",
       "    <tr>\n",
       "      <th>best_book_id</th>\n",
       "      <td>10000.00</td>\n",
       "      <td>5471213.58</td>\n",
       "      <td>7827329.89</td>\n",
       "      <td>1.00</td>\n",
       "      <td>47911.75</td>\n",
       "      <td>425123.50</td>\n",
       "      <td>9636112.50</td>\n",
       "      <td>35534230.00</td>\n",
       "    </tr>\n",
       "    <tr>\n",
       "      <th>book_id</th>\n",
       "      <td>10000.00</td>\n",
       "      <td>5000.50</td>\n",
       "      <td>2886.90</td>\n",
       "      <td>1.00</td>\n",
       "      <td>2500.75</td>\n",
       "      <td>5000.50</td>\n",
       "      <td>7500.25</td>\n",
       "      <td>10000.00</td>\n",
       "    </tr>\n",
       "    <tr>\n",
       "      <th>books_count</th>\n",
       "      <td>10000.00</td>\n",
       "      <td>75.71</td>\n",
       "      <td>170.47</td>\n",
       "      <td>1.00</td>\n",
       "      <td>23.00</td>\n",
       "      <td>40.00</td>\n",
       "      <td>67.00</td>\n",
       "      <td>3455.00</td>\n",
       "    </tr>\n",
       "    <tr>\n",
       "      <th>goodreads_book_id</th>\n",
       "      <td>10000.00</td>\n",
       "      <td>5264696.51</td>\n",
       "      <td>7575461.86</td>\n",
       "      <td>1.00</td>\n",
       "      <td>46275.75</td>\n",
       "      <td>394965.50</td>\n",
       "      <td>9382225.25</td>\n",
       "      <td>33288638.00</td>\n",
       "    </tr>\n",
       "    <tr>\n",
       "      <th>isbn13</th>\n",
       "      <td>9415.00</td>\n",
       "      <td>9755044658295.13</td>\n",
       "      <td>442861957514.56</td>\n",
       "      <td>195170342.00</td>\n",
       "      <td>9780320000000.00</td>\n",
       "      <td>9780450000000.00</td>\n",
       "      <td>9780830000000.00</td>\n",
       "      <td>9790010000000.00</td>\n",
       "    </tr>\n",
       "    <tr>\n",
       "      <th>original_publication_year</th>\n",
       "      <td>9979.00</td>\n",
       "      <td>1981.99</td>\n",
       "      <td>152.58</td>\n",
       "      <td>-1750.00</td>\n",
       "      <td>1990.00</td>\n",
       "      <td>2004.00</td>\n",
       "      <td>2011.00</td>\n",
       "      <td>2017.00</td>\n",
       "    </tr>\n",
       "    <tr>\n",
       "      <th>pages</th>\n",
       "      <td>9927.00</td>\n",
       "      <td>359.42</td>\n",
       "      <td>216.95</td>\n",
       "      <td>0.00</td>\n",
       "      <td>250.00</td>\n",
       "      <td>336.00</td>\n",
       "      <td>424.00</td>\n",
       "      <td>5216.00</td>\n",
       "    </tr>\n",
       "    <tr>\n",
       "      <th>ratings_1</th>\n",
       "      <td>10000.00</td>\n",
       "      <td>1345.04</td>\n",
       "      <td>6635.63</td>\n",
       "      <td>11.00</td>\n",
       "      <td>196.00</td>\n",
       "      <td>391.00</td>\n",
       "      <td>885.00</td>\n",
       "      <td>456191.00</td>\n",
       "    </tr>\n",
       "    <tr>\n",
       "      <th>ratings_2</th>\n",
       "      <td>10000.00</td>\n",
       "      <td>3110.89</td>\n",
       "      <td>9717.12</td>\n",
       "      <td>30.00</td>\n",
       "      <td>656.00</td>\n",
       "      <td>1163.00</td>\n",
       "      <td>2353.25</td>\n",
       "      <td>436802.00</td>\n",
       "    </tr>\n",
       "    <tr>\n",
       "      <th>ratings_3</th>\n",
       "      <td>10000.00</td>\n",
       "      <td>11475.89</td>\n",
       "      <td>28546.45</td>\n",
       "      <td>323.00</td>\n",
       "      <td>3112.00</td>\n",
       "      <td>4894.00</td>\n",
       "      <td>9287.00</td>\n",
       "      <td>793319.00</td>\n",
       "    </tr>\n",
       "    <tr>\n",
       "      <th>ratings_4</th>\n",
       "      <td>10000.00</td>\n",
       "      <td>19965.70</td>\n",
       "      <td>51447.36</td>\n",
       "      <td>750.00</td>\n",
       "      <td>5405.75</td>\n",
       "      <td>8269.50</td>\n",
       "      <td>16023.50</td>\n",
       "      <td>1481305.00</td>\n",
       "    </tr>\n",
       "    <tr>\n",
       "      <th>ratings_5</th>\n",
       "      <td>10000.00</td>\n",
       "      <td>23789.81</td>\n",
       "      <td>79768.89</td>\n",
       "      <td>754.00</td>\n",
       "      <td>5334.00</td>\n",
       "      <td>8836.00</td>\n",
       "      <td>17304.50</td>\n",
       "      <td>3011543.00</td>\n",
       "    </tr>\n",
       "    <tr>\n",
       "      <th>ratings_count</th>\n",
       "      <td>10000.00</td>\n",
       "      <td>54001.24</td>\n",
       "      <td>157369.96</td>\n",
       "      <td>2716.00</td>\n",
       "      <td>13568.75</td>\n",
       "      <td>21155.50</td>\n",
       "      <td>41053.50</td>\n",
       "      <td>4780653.00</td>\n",
       "    </tr>\n",
       "    <tr>\n",
       "      <th>work_id</th>\n",
       "      <td>10000.00</td>\n",
       "      <td>8646183.42</td>\n",
       "      <td>11751060.82</td>\n",
       "      <td>87.00</td>\n",
       "      <td>1008841.00</td>\n",
       "      <td>2719524.50</td>\n",
       "      <td>14517748.25</td>\n",
       "      <td>56399597.00</td>\n",
       "    </tr>\n",
       "    <tr>\n",
       "      <th>work_ratings_count</th>\n",
       "      <td>10000.00</td>\n",
       "      <td>59687.32</td>\n",
       "      <td>167803.79</td>\n",
       "      <td>5510.00</td>\n",
       "      <td>15438.75</td>\n",
       "      <td>23832.50</td>\n",
       "      <td>45915.00</td>\n",
       "      <td>4942365.00</td>\n",
       "    </tr>\n",
       "    <tr>\n",
       "      <th>work_text_reviews_count</th>\n",
       "      <td>10000.00</td>\n",
       "      <td>2919.96</td>\n",
       "      <td>6124.38</td>\n",
       "      <td>3.00</td>\n",
       "      <td>694.00</td>\n",
       "      <td>1402.00</td>\n",
       "      <td>2744.25</td>\n",
       "      <td>155254.00</td>\n",
       "    </tr>\n",
       "  </tbody>\n",
       "</table>\n",
       "</div>"
      ],
      "text/plain": [
       "                             count             mean             std  \\\n",
       "Unnamed: 0                10000.00          4999.50         2886.90   \n",
       "index                     10000.00          4526.32         2567.92   \n",
       "average_rating            10000.00             4.00            0.25   \n",
       "best_book_id              10000.00       5471213.58      7827329.89   \n",
       "book_id                   10000.00          5000.50         2886.90   \n",
       "books_count               10000.00            75.71          170.47   \n",
       "goodreads_book_id         10000.00       5264696.51      7575461.86   \n",
       "isbn13                     9415.00 9755044658295.13 442861957514.56   \n",
       "original_publication_year  9979.00          1981.99          152.58   \n",
       "pages                      9927.00           359.42          216.95   \n",
       "ratings_1                 10000.00          1345.04         6635.63   \n",
       "ratings_2                 10000.00          3110.89         9717.12   \n",
       "ratings_3                 10000.00         11475.89        28546.45   \n",
       "ratings_4                 10000.00         19965.70        51447.36   \n",
       "ratings_5                 10000.00         23789.81        79768.89   \n",
       "ratings_count             10000.00         54001.24       157369.96   \n",
       "work_id                   10000.00       8646183.42     11751060.82   \n",
       "work_ratings_count        10000.00         59687.32       167803.79   \n",
       "work_text_reviews_count   10000.00          2919.96         6124.38   \n",
       "\n",
       "                                   min              25%              50%  \\\n",
       "Unnamed: 0                        0.00          2499.75          4999.50   \n",
       "index                             0.00          2351.75          4567.50   \n",
       "average_rating                    2.47             3.85             4.02   \n",
       "best_book_id                      1.00         47911.75        425123.50   \n",
       "book_id                           1.00          2500.75          5000.50   \n",
       "books_count                       1.00            23.00            40.00   \n",
       "goodreads_book_id                 1.00         46275.75        394965.50   \n",
       "isbn13                    195170342.00 9780320000000.00 9780450000000.00   \n",
       "original_publication_year     -1750.00          1990.00          2004.00   \n",
       "pages                             0.00           250.00           336.00   \n",
       "ratings_1                        11.00           196.00           391.00   \n",
       "ratings_2                        30.00           656.00          1163.00   \n",
       "ratings_3                       323.00          3112.00          4894.00   \n",
       "ratings_4                       750.00          5405.75          8269.50   \n",
       "ratings_5                       754.00          5334.00          8836.00   \n",
       "ratings_count                  2716.00         13568.75         21155.50   \n",
       "work_id                          87.00       1008841.00       2719524.50   \n",
       "work_ratings_count             5510.00         15438.75         23832.50   \n",
       "work_text_reviews_count           3.00           694.00          1402.00   \n",
       "\n",
       "                                       75%              max  \n",
       "Unnamed: 0                         7499.25          9999.00  \n",
       "index                              6661.25          9999.00  \n",
       "average_rating                        4.18             4.82  \n",
       "best_book_id                    9636112.50      35534230.00  \n",
       "book_id                            7500.25         10000.00  \n",
       "books_count                          67.00          3455.00  \n",
       "goodreads_book_id               9382225.25      33288638.00  \n",
       "isbn13                    9780830000000.00 9790010000000.00  \n",
       "original_publication_year          2011.00          2017.00  \n",
       "pages                               424.00          5216.00  \n",
       "ratings_1                           885.00        456191.00  \n",
       "ratings_2                          2353.25        436802.00  \n",
       "ratings_3                          9287.00        793319.00  \n",
       "ratings_4                         16023.50       1481305.00  \n",
       "ratings_5                         17304.50       3011543.00  \n",
       "ratings_count                     41053.50       4780653.00  \n",
       "work_id                        14517748.25      56399597.00  \n",
       "work_ratings_count                45915.00       4942365.00  \n",
       "work_text_reviews_count            2744.25        155254.00  "
      ]
     },
     "execution_count": 9,
     "metadata": {},
     "output_type": "execute_result"
    }
   ],
   "source": [
    "df_orig_books.describe().T"
   ]
  },
  {
   "cell_type": "markdown",
   "id": "744129cf",
   "metadata": {},
   "source": [
    "#### Distributions / Outliers"
   ]
  },
  {
   "cell_type": "code",
   "execution_count": 10,
   "id": "77a5ad4d",
   "metadata": {},
   "outputs": [
    {
     "data": {
      "text/plain": [
       "Index(['Unnamed: 0', 'index', 'average_rating', 'best_book_id', 'book_id',\n",
       "       'books_count', 'goodreads_book_id', 'isbn13',\n",
       "       'original_publication_year', 'pages', 'ratings_1', 'ratings_2',\n",
       "       'ratings_3', 'ratings_4', 'ratings_5', 'ratings_count', 'work_id',\n",
       "       'work_ratings_count', 'work_text_reviews_count'],\n",
       "      dtype='object')"
      ]
     },
     "execution_count": 10,
     "metadata": {},
     "output_type": "execute_result"
    }
   ],
   "source": [
    "df_orig_books.select_dtypes(include=\"number\").columns"
   ]
  },
  {
   "cell_type": "code",
   "execution_count": 11,
   "id": "bdfb4956",
   "metadata": {},
   "outputs": [
    {
     "data": {
      "text/plain": [
       "<function matplotlib.pyplot.show(close=None, block=None)>"
      ]
     },
     "execution_count": 11,
     "metadata": {},
     "output_type": "execute_result"
    },
    {
     "data": {
      "image/png": "[encoded data removed]",
      "text/plain": [
       "<Figure size 720x360 with 2 Axes>"
      ]
     },
     "metadata": {
      "needs_background": "light"
     },
     "output_type": "display_data"
    },
    {
     "data": {
      "image/png": "[encoded data removed]",
      "text/plain": [
       "<Figure size 720x360 with 2 Axes>"
      ]
     },
     "metadata": {
      "needs_background": "light"
     },
     "output_type": "display_data"
    },
    {
     "data": {
      "image/png": "[encoded data removed]",
      "text/plain": [
       "<Figure size 720x360 with 2 Axes>"
      ]
     },
     "metadata": {
      "needs_background": "light"
     },
     "output_type": "display_data"
    },
    {
     "data": {
      "image/png": "[encoded data removed]",
      "text/plain": [
       "<Figure size 720x360 with 2 Axes>"
      ]
     },
     "metadata": {
      "needs_background": "light"
     },
     "output_type": "display_data"
    },
    {
     "data": {
      "image/png": "[encoded data removed]",
      "text/plain": [
       "<Figure size 720x360 with 2 Axes>"
      ]
     },
     "metadata": {
      "needs_background": "light"
     },
     "output_type": "display_data"
    }
   ],
   "source": [
    "columns = ['original_publication_year', 'average_rating', 'work_ratings_count', 'work_text_reviews_count',\n",
    "       'pages']\n",
    "\n",
    "for c in columns: \n",
    "    fig, ax = plt.subplots(2, figsize=(10,5), sharex=True, gridspec_kw = {'height_ratios': (0.15, 0.85)})\n",
    "    ax_box = ax[0]\n",
    "    ax_box = sns.boxplot(x=df_orig_books[c], ax=ax_box)\n",
    "    ax_box.set(title=c, yticks=[], xlabel='')\n",
    "    sns.despine(ax=ax_box, left=True)\n",
    "\n",
    "    ax_hist = ax[1]\n",
    "    ax_hist = sns.histplot(x=df_orig_books[c], ax=ax_hist, kde=True)\n",
    "    ax_hist.set(xlabel='')\n",
    "    sns.despine(ax=ax_hist)\n",
    "\n",
    "plt.show"
   ]
  },
  {
   "cell_type": "markdown",
   "id": "f4bec37a",
   "metadata": {},
   "source": [
    "### Ratings"
   ]
  },
  {
   "cell_type": "markdown",
   "id": "3b3b5315",
   "metadata": {},
   "source": [
    "#### Columns, data types, and shape"
   ]
  },
  {
   "cell_type": "code",
   "execution_count": 12,
   "id": "c0abe95f",
   "metadata": {
    "scrolled": true
   },
   "outputs": [
    {
     "name": "stdout",
     "output_type": "stream",
     "text": [
      "Number of rows: 5976479\n",
      "Number of columns: 3\n",
      "Number of Duplicates: 0\n"
     ]
    },
    {
     "data": {
      "text/html": [
       "<div>\n",
       "<style scoped>\n",
       "    .dataframe tbody tr th:only-of-type {\n",
       "        vertical-align: middle;\n",
       "    }\n",
       "\n",
       "    .dataframe tbody tr th {\n",
       "        vertical-align: top;\n",
       "    }\n",
       "\n",
       "    .dataframe thead th {\n",
       "        text-align: right;\n",
       "    }\n",
       "</style>\n",
       "<table border=\"1\" class=\"dataframe\">\n",
       "  <thead>\n",
       "    <tr style=\"text-align: right;\">\n",
       "      <th></th>\n",
       "      <th>Column</th>\n",
       "      <th>Data Type</th>\n",
       "      <th>Number of Nulls</th>\n",
       "      <th>Number of Unique Values</th>\n",
       "    </tr>\n",
       "  </thead>\n",
       "  <tbody>\n",
       "    <tr>\n",
       "      <th>0</th>\n",
       "      <td>user_id</td>\n",
       "      <td>int64</td>\n",
       "      <td>0</td>\n",
       "      <td>53424</td>\n",
       "    </tr>\n",
       "    <tr>\n",
       "      <th>1</th>\n",
       "      <td>book_id</td>\n",
       "      <td>int64</td>\n",
       "      <td>0</td>\n",
       "      <td>10000</td>\n",
       "    </tr>\n",
       "    <tr>\n",
       "      <th>2</th>\n",
       "      <td>user_rating</td>\n",
       "      <td>int64</td>\n",
       "      <td>0</td>\n",
       "      <td>5</td>\n",
       "    </tr>\n",
       "  </tbody>\n",
       "</table>\n",
       "</div>"
      ],
      "text/plain": [
       "        Column Data Type  Number of Nulls  Number of Unique Values\n",
       "0      user_id     int64                0                    53424\n",
       "1      book_id     int64                0                    10000\n",
       "2  user_rating     int64                0                        5"
      ]
     },
     "execution_count": 12,
     "metadata": {},
     "output_type": "execute_result"
    }
   ],
   "source": [
    "#show shape and number of duplicates\n",
    "print('Number of rows: %d' % df_orig_ratings.shape[0])\n",
    "print('Number of columns: %d' % df_orig_ratings.shape[1])\n",
    "print('Number of Duplicates: {}'.format(len(df_orig_ratings[df_orig_ratings.duplicated()])))\n",
    "\n",
    "# Show data type, number of nulls and number of unique values for each column\n",
    "dtype_list = []\n",
    "null_list = []\n",
    "nunique_list = []\n",
    "\n",
    "for c in df_orig_ratings.columns:\n",
    "    dtype_list.append(df_orig_ratings[c].dtypes)\n",
    "    null_list.append(df_orig_ratings[c].isnull().sum())\n",
    "    nunique_list.append(df_orig_ratings[c].nunique())\n",
    "    \n",
    "summary = pd.DataFrame(list(zip(df_orig_ratings.columns, dtype_list, null_list, nunique_list)),\n",
    "                         columns = ['Column', 'Data Type', 'Number of Nulls', 'Number of Unique Values'])\n",
    "\n",
    "summary"
   ]
  },
  {
   "cell_type": "markdown",
   "id": "e8cc7e31",
   "metadata": {},
   "source": [
    "#### Summary statistics"
   ]
  },
  {
   "cell_type": "code",
   "execution_count": 13,
   "id": "5954262f",
   "metadata": {
    "scrolled": false
   },
   "outputs": [
    {
     "data": {
      "text/html": [
       "<div>\n",
       "<style scoped>\n",
       "    .dataframe tbody tr th:only-of-type {\n",
       "        vertical-align: middle;\n",
       "    }\n",
       "\n",
       "    .dataframe tbody tr th {\n",
       "        vertical-align: top;\n",
       "    }\n",
       "\n",
       "    .dataframe thead th {\n",
       "        text-align: right;\n",
       "    }\n",
       "</style>\n",
       "<table border=\"1\" class=\"dataframe\">\n",
       "  <thead>\n",
       "    <tr style=\"text-align: right;\">\n",
       "      <th></th>\n",
       "      <th>count</th>\n",
       "      <th>mean</th>\n",
       "      <th>std</th>\n",
       "      <th>min</th>\n",
       "      <th>25%</th>\n",
       "      <th>50%</th>\n",
       "      <th>75%</th>\n",
       "      <th>max</th>\n",
       "    </tr>\n",
       "  </thead>\n",
       "  <tbody>\n",
       "    <tr>\n",
       "      <th>user_id</th>\n",
       "      <td>5976479.00</td>\n",
       "      <td>26224.46</td>\n",
       "      <td>15413.23</td>\n",
       "      <td>1.00</td>\n",
       "      <td>12813.00</td>\n",
       "      <td>25938.00</td>\n",
       "      <td>39509.00</td>\n",
       "      <td>53424.00</td>\n",
       "    </tr>\n",
       "    <tr>\n",
       "      <th>book_id</th>\n",
       "      <td>5976479.00</td>\n",
       "      <td>2006.48</td>\n",
       "      <td>2468.50</td>\n",
       "      <td>1.00</td>\n",
       "      <td>198.00</td>\n",
       "      <td>885.00</td>\n",
       "      <td>2973.00</td>\n",
       "      <td>10000.00</td>\n",
       "    </tr>\n",
       "    <tr>\n",
       "      <th>user_rating</th>\n",
       "      <td>5976479.00</td>\n",
       "      <td>3.92</td>\n",
       "      <td>0.99</td>\n",
       "      <td>1.00</td>\n",
       "      <td>3.00</td>\n",
       "      <td>4.00</td>\n",
       "      <td>5.00</td>\n",
       "      <td>5.00</td>\n",
       "    </tr>\n",
       "  </tbody>\n",
       "</table>\n",
       "</div>"
      ],
      "text/plain": [
       "                 count     mean      std  min      25%      50%      75%  \\\n",
       "user_id     5976479.00 26224.46 15413.23 1.00 12813.00 25938.00 39509.00   \n",
       "book_id     5976479.00  2006.48  2468.50 1.00   198.00   885.00  2973.00   \n",
       "user_rating 5976479.00     3.92     0.99 1.00     3.00     4.00     5.00   \n",
       "\n",
       "                 max  \n",
       "user_id     53424.00  \n",
       "book_id     10000.00  \n",
       "user_rating     5.00  "
      ]
     },
     "execution_count": 13,
     "metadata": {},
     "output_type": "execute_result"
    }
   ],
   "source": [
    "df_orig_ratings.describe().T"
   ]
  },
  {
   "cell_type": "markdown",
   "id": "21ad46f5",
   "metadata": {},
   "source": [
    "#### Distributions / Outliers"
   ]
  },
  {
   "cell_type": "code",
   "execution_count": 14,
   "id": "640dfbc3",
   "metadata": {},
   "outputs": [
    {
     "data": {
      "text/plain": [
       "<function matplotlib.pyplot.show(close=None, block=None)>"
      ]
     },
     "execution_count": 14,
     "metadata": {},
     "output_type": "execute_result"
    },
    {
     "data": {
      "image/png": "[encoded data removed]",
      "text/plain": [
       "<Figure size 720x360 with 2 Axes>"
      ]
     },
     "metadata": {
      "needs_background": "light"
     },
     "output_type": "display_data"
    }
   ],
   "source": [
    "columns = ['user_rating']\n",
    "\n",
    "for c in columns: \n",
    "    fig, ax = plt.subplots(2, figsize=(10,5), sharex=True, gridspec_kw = {'height_ratios': (0.15, 0.85)})\n",
    "    ax_box = ax[0]\n",
    "    ax_box = sns.boxplot(x=df_orig_ratings[c], ax=ax_box)\n",
    "    ax_box.set(title=c, yticks=[], xlabel='')\n",
    "    sns.despine(ax=ax_box, left=True)\n",
    "\n",
    "    ax_hist = ax[1]\n",
    "    ax_hist = sns.histplot(x=df_orig_ratings[c], ax=ax_hist, kde=True)\n",
    "    ax_hist.set(xlabel='')\n",
    "    sns.despine(ax=ax_hist)\n",
    "\n",
    "plt.show"
   ]
  },
  {
   "cell_type": "markdown",
   "id": "19b3f57b",
   "metadata": {},
   "source": [
    "## Data cleaning"
   ]
  },
  {
   "cell_type": "code",
   "execution_count": 15,
   "id": "f997a4f5",
   "metadata": {},
   "outputs": [],
   "source": [
    "df_clean_books = df_orig_books.copy()\n",
    "df_clean_ratings = df_orig_ratings.copy()"
   ]
  },
  {
   "cell_type": "markdown",
   "id": "a16c4937",
   "metadata": {},
   "source": [
    "### Drop unwanted columns"
   ]
  },
  {
   "cell_type": "code",
   "execution_count": 16,
   "id": "2c4be2c0",
   "metadata": {},
   "outputs": [],
   "source": [
    "# ratings_count = count of ratings a book received\n",
    "# work_ratings_count = count of all ratings all editions of the book received\n",
    "# https://merlin.rebrovic.net/pub/mlnd-notebook.html/\n",
    "\n",
    "dropped_col = ['Unnamed: 0', 'index', 'best_book_id', 'work_id', 'books_count', 'isbn', 'isbn13', 'publishDate', \n",
    "               'ratings_count', 'original_title', 'ratings_1', 'ratings_2', 'ratings_3', 'ratings_4', 'ratings_5',\n",
    "               'image_url', 'small_image_url', 'authors_2']\n",
    "df_clean_books = df_clean_books.drop(dropped_col, axis=1)"
   ]
  },
  {
   "cell_type": "markdown",
   "id": "3c6ab41c",
   "metadata": {},
   "source": [
    "### Missing values"
   ]
  },
  {
   "cell_type": "markdown",
   "id": "01f0a75c",
   "metadata": {},
   "source": [
    "#### Publication year"
   ]
  },
  {
   "cell_type": "code",
   "execution_count": 17,
   "id": "7ecc7838",
   "metadata": {},
   "outputs": [
    {
     "data": {
      "text/html": [
       "<div>\n",
       "<style scoped>\n",
       "    .dataframe tbody tr th:only-of-type {\n",
       "        vertical-align: middle;\n",
       "    }\n",
       "\n",
       "    .dataframe tbody tr th {\n",
       "        vertical-align: top;\n",
       "    }\n",
       "\n",
       "    .dataframe thead th {\n",
       "        text-align: right;\n",
       "    }\n",
       "</style>\n",
       "<table border=\"1\" class=\"dataframe\">\n",
       "  <thead>\n",
       "    <tr style=\"text-align: right;\">\n",
       "      <th></th>\n",
       "      <th>goodreads_book_id</th>\n",
       "      <th>title</th>\n",
       "    </tr>\n",
       "  </thead>\n",
       "  <tbody>\n",
       "    <tr>\n",
       "      <th>198</th>\n",
       "      <td>3609760</td>\n",
       "      <td>Twilight: The Complete Illustrated Movie Compa...</td>\n",
       "    </tr>\n",
       "    <tr>\n",
       "      <th>3249</th>\n",
       "      <td>856917</td>\n",
       "      <td>Absolute Boyfriend, Vol. 1</td>\n",
       "    </tr>\n",
       "    <tr>\n",
       "      <th>3881</th>\n",
       "      <td>8724779</td>\n",
       "      <td>Marked / Betrayed / Chosen / Untamed / Hunted ...</td>\n",
       "    </tr>\n",
       "    <tr>\n",
       "      <th>4252</th>\n",
       "      <td>9832370</td>\n",
       "      <td>BookRags Summary:  A Storm of Swords</td>\n",
       "    </tr>\n",
       "    <tr>\n",
       "      <th>4303</th>\n",
       "      <td>5171894</td>\n",
       "      <td>The Doomsday Key (Sigma Force, #6)</td>\n",
       "    </tr>\n",
       "    <tr>\n",
       "      <th>4392</th>\n",
       "      <td>17733861</td>\n",
       "      <td>A Shade of Blood (A Shade of Vampire, #2)</td>\n",
       "    </tr>\n",
       "    <tr>\n",
       "      <th>5001</th>\n",
       "      <td>1044141</td>\n",
       "      <td>The 8th Habit: From Effectiveness to Greatness</td>\n",
       "    </tr>\n",
       "    <tr>\n",
       "      <th>5208</th>\n",
       "      <td>9748274</td>\n",
       "      <td>A Tale of Two Cities / Great Expectations</td>\n",
       "    </tr>\n",
       "    <tr>\n",
       "      <th>5648</th>\n",
       "      <td>48811</td>\n",
       "      <td>Nancy Drew: #1-64</td>\n",
       "    </tr>\n",
       "    <tr>\n",
       "      <th>7163</th>\n",
       "      <td>351023</td>\n",
       "      <td>The Worst Witch (Worst Witch, #1)</td>\n",
       "    </tr>\n",
       "    <tr>\n",
       "      <th>7850</th>\n",
       "      <td>1056627</td>\n",
       "      <td>Become a Better You: 7 Keys to Improving Your ...</td>\n",
       "    </tr>\n",
       "    <tr>\n",
       "      <th>8119</th>\n",
       "      <td>6614886</td>\n",
       "      <td>زغازيغ</td>\n",
       "    </tr>\n",
       "    <tr>\n",
       "      <th>8227</th>\n",
       "      <td>90072</td>\n",
       "      <td>Dr. Seuss's Green Eggs and Ham: For Soprano, B...</td>\n",
       "    </tr>\n",
       "    <tr>\n",
       "      <th>8532</th>\n",
       "      <td>36</td>\n",
       "      <td>The Lord of the Rings: Weapons and Warfare</td>\n",
       "    </tr>\n",
       "    <tr>\n",
       "      <th>8568</th>\n",
       "      <td>349254</td>\n",
       "      <td>The Lord of the Rings: The Return of the King:...</td>\n",
       "    </tr>\n",
       "    <tr>\n",
       "      <th>9140</th>\n",
       "      <td>9528186</td>\n",
       "      <td>Pretty Little Liars (TV Series)</td>\n",
       "    </tr>\n",
       "    <tr>\n",
       "      <th>9151</th>\n",
       "      <td>809849</td>\n",
       "      <td>Dear Zoo: A Lift-the-Flap Book</td>\n",
       "    </tr>\n",
       "    <tr>\n",
       "      <th>9198</th>\n",
       "      <td>765148</td>\n",
       "      <td>Giraffes Can't Dance</td>\n",
       "    </tr>\n",
       "    <tr>\n",
       "      <th>9254</th>\n",
       "      <td>197436</td>\n",
       "      <td>Ralph S. Mouse by Beverly Cleary: Teacher Guid...</td>\n",
       "    </tr>\n",
       "    <tr>\n",
       "      <th>9728</th>\n",
       "      <td>11318</td>\n",
       "      <td>Trouble Is My Business</td>\n",
       "    </tr>\n",
       "    <tr>\n",
       "      <th>9842</th>\n",
       "      <td>6054190</td>\n",
       "      <td>Dune Road</td>\n",
       "    </tr>\n",
       "  </tbody>\n",
       "</table>\n",
       "</div>"
      ],
      "text/plain": [
       "      goodreads_book_id                                              title\n",
       "198             3609760  Twilight: The Complete Illustrated Movie Compa...\n",
       "3249             856917                         Absolute Boyfriend, Vol. 1\n",
       "3881            8724779  Marked / Betrayed / Chosen / Untamed / Hunted ...\n",
       "4252            9832370               BookRags Summary:  A Storm of Swords\n",
       "4303            5171894                 The Doomsday Key (Sigma Force, #6)\n",
       "4392           17733861          A Shade of Blood (A Shade of Vampire, #2)\n",
       "5001            1044141     The 8th Habit: From Effectiveness to Greatness\n",
       "5208            9748274          A Tale of Two Cities / Great Expectations\n",
       "5648              48811                                  Nancy Drew: #1-64\n",
       "7163             351023                  The Worst Witch (Worst Witch, #1)\n",
       "7850            1056627  Become a Better You: 7 Keys to Improving Your ...\n",
       "8119            6614886                                             زغازيغ\n",
       "8227              90072  Dr. Seuss's Green Eggs and Ham: For Soprano, B...\n",
       "8532                 36         The Lord of the Rings: Weapons and Warfare\n",
       "8568             349254  The Lord of the Rings: The Return of the King:...\n",
       "9140            9528186                    Pretty Little Liars (TV Series)\n",
       "9151             809849                     Dear Zoo: A Lift-the-Flap Book\n",
       "9198             765148                               Giraffes Can't Dance\n",
       "9254             197436  Ralph S. Mouse by Beverly Cleary: Teacher Guid...\n",
       "9728              11318                             Trouble Is My Business\n",
       "9842            6054190                                          Dune Road"
      ]
     },
     "execution_count": 17,
     "metadata": {},
     "output_type": "execute_result"
    }
   ],
   "source": [
    "df_clean_books[df_clean_books['original_publication_year'].isnull()][['goodreads_book_id', 'title']]"
   ]
  },
  {
   "cell_type": "code",
   "execution_count": 18,
   "id": "2bf3f163",
   "metadata": {},
   "outputs": [],
   "source": [
    "df_clean_books.loc[df_clean_books['goodreads_book_id'] == 3609760, 'original_publication_year'] = 2008\n",
    "df_clean_books.loc[df_clean_books['goodreads_book_id'] == 90072, 'original_publication_year'] = 1996\n",
    "df_clean_books.loc[df_clean_books['goodreads_book_id'] == 856917, 'original_publication_year'] = 2003\n",
    "df_clean_books.loc[df_clean_books['goodreads_book_id'] == 36, 'original_publication_year'] = 2003\n",
    "df_clean_books.loc[df_clean_books['goodreads_book_id'] == 8724779, 'original_publication_year'] = 2009\n",
    "df_clean_books.loc[df_clean_books['goodreads_book_id'] == 349254, 'original_publication_year'] = 2003\n",
    "df_clean_books.loc[df_clean_books['goodreads_book_id'] == 9832370, 'original_publication_year'] = 2010\n",
    "df_clean_books.loc[df_clean_books['goodreads_book_id'] == 5171894, 'original_publication_year'] = 2009\n",
    "df_clean_books.loc[df_clean_books['goodreads_book_id'] == 17733861, 'original_publication_year'] = 2013\n",
    "df_clean_books.loc[df_clean_books['goodreads_book_id'] == 1044141, 'original_publication_year'] = 2004\n",
    "df_clean_books.loc[df_clean_books['goodreads_book_id'] == 9748274, 'original_publication_year'] = 1859\n",
    "df_clean_books.loc[df_clean_books['goodreads_book_id'] == 48811, 'original_publication_year'] = 2006\n",
    "df_clean_books.loc[df_clean_books['goodreads_book_id'] == 9528186, 'original_publication_year'] = 2010\n",
    "df_clean_books.loc[df_clean_books['goodreads_book_id'] == 809849, 'original_publication_year'] = 1982\n",
    "df_clean_books.loc[df_clean_books['goodreads_book_id'] == 765148, 'original_publication_year'] = 2001\n",
    "df_clean_books.loc[df_clean_books['goodreads_book_id'] == 197436, 'original_publication_year'] = 2000\n",
    "df_clean_books.loc[df_clean_books['goodreads_book_id'] == 351023, 'original_publication_year'] = 1974\n",
    "df_clean_books.loc[df_clean_books['goodreads_book_id'] == 11318, 'original_publication_year'] = 1939\n",
    "df_clean_books.loc[df_clean_books['goodreads_book_id'] == 6054190, 'original_publication_year'] = 2009\n",
    "df_clean_books.loc[df_clean_books['goodreads_book_id'] == 1056627, 'original_publication_year'] = 2007\n",
    "df_clean_books.loc[df_clean_books['goodreads_book_id'] == 6614886, 'original_publication_year'] = 2009"
   ]
  },
  {
   "cell_type": "markdown",
   "id": "4e2c079c",
   "metadata": {},
   "source": [
    "### Clean up column values"
   ]
  },
  {
   "cell_type": "markdown",
   "id": "47aca2cf",
   "metadata": {},
   "source": [
    "#### In Series"
   ]
  },
  {
   "cell_type": "code",
   "execution_count": 19,
   "id": "26c00be9",
   "metadata": {},
   "outputs": [],
   "source": [
    "#extract series name from title (between brackets)\n",
    "df_clean_books['series'] = df_clean_books['title'].str.split('(').str[1]\n",
    "df_clean_books['series'] = df_clean_books['series'].str.split(' #').str[0]\n",
    "df_clean_books['series'] = df_clean_books['series'].str.replace(',', '')"
   ]
  },
  {
   "cell_type": "code",
   "execution_count": 20,
   "id": "0bc8d342",
   "metadata": {},
   "outputs": [],
   "source": [
    "#add column to identify if book belongs to series\n",
    "df_clean_books['in_series'] = df_clean_books['series'].notnull()"
   ]
  },
  {
   "cell_type": "markdown",
   "id": "c2908375",
   "metadata": {},
   "source": [
    "Books which are part of a series tend to have a higher average rating than books which are not, and ratings rarely go below 3. This sounds logicial since a book with a low rating is not likely to have a continuation."
   ]
  },
  {
   "cell_type": "code",
   "execution_count": 21,
   "id": "c64fbe72",
   "metadata": {},
   "outputs": [
    {
     "data": {
      "text/plain": [
       "Text(0.5, 0, 'In series')"
      ]
     },
     "execution_count": 21,
     "metadata": {},
     "output_type": "execute_result"
    },
    {
     "data": {
      "image/png": "[encoded data removed]",
      "text/plain": [
       "<Figure size 432x288 with 1 Axes>"
      ]
     },
     "metadata": {
      "needs_background": "light"
     },
     "output_type": "display_data"
    }
   ],
   "source": [
    "sns.boxplot(x='in_series', y='average_rating', data=df_clean_books)\n",
    "#plt.xticks((0, 1), ('No', 'Yes'))\n",
    "plt.xlabel('In series')"
   ]
  },
  {
   "cell_type": "markdown",
   "id": "01472564",
   "metadata": {},
   "source": [
    "#### Genre"
   ]
  },
  {
   "cell_type": "code",
   "execution_count": 22,
   "id": "d9c2ccda",
   "metadata": {},
   "outputs": [],
   "source": [
    "#clean up genre column to remove square brackets, open/close inverted commas and spaces\n",
    "def clean_genre(column):\n",
    "    new_text = []\n",
    "    for c in column:\n",
    "        c = c.replace(\"[\", \"\") \n",
    "        c = c.replace(\"]\", \"\")\n",
    "        c = c.replace(\"'\", \"\")\n",
    "        c = c.replace(\" \", \"\")\n",
    "        new_text.append(c)\n",
    "    \n",
    "    return new_text\n",
    "\n",
    "df_clean_books['genres'] = clean_genre(df_clean_books['genres'])"
   ]
  },
  {
   "cell_type": "code",
   "execution_count": 23,
   "id": "b40bd138",
   "metadata": {},
   "outputs": [
    {
     "data": {
      "text/html": [
       "<div>\n",
       "<style scoped>\n",
       "    .dataframe tbody tr th:only-of-type {\n",
       "        vertical-align: middle;\n",
       "    }\n",
       "\n",
       "    .dataframe tbody tr th {\n",
       "        vertical-align: top;\n",
       "    }\n",
       "\n",
       "    .dataframe thead th {\n",
       "        text-align: right;\n",
       "    }\n",
       "</style>\n",
       "<table border=\"1\" class=\"dataframe\">\n",
       "  <thead>\n",
       "    <tr style=\"text-align: right;\">\n",
       "      <th></th>\n",
       "      <th>authors</th>\n",
       "      <th>average_rating</th>\n",
       "      <th>book_id</th>\n",
       "      <th>description</th>\n",
       "      <th>genres</th>\n",
       "      <th>goodreads_book_id</th>\n",
       "      <th>language_code</th>\n",
       "      <th>original_publication_year</th>\n",
       "      <th>pages</th>\n",
       "      <th>title</th>\n",
       "      <th>work_ratings_count</th>\n",
       "      <th>work_text_reviews_count</th>\n",
       "      <th>series</th>\n",
       "      <th>in_series</th>\n",
       "    </tr>\n",
       "  </thead>\n",
       "  <tbody>\n",
       "    <tr>\n",
       "      <th>0</th>\n",
       "      <td>['Suzanne Collins']</td>\n",
       "      <td>4.34</td>\n",
       "      <td>1</td>\n",
       "      <td>WINNING MEANS FAME AND FORTUNE.LOSING MEANS CE...</td>\n",
       "      <td>young-adult,fiction,fantasy,science-fiction,ro...</td>\n",
       "      <td>2767052</td>\n",
       "      <td>eng</td>\n",
       "      <td>2008.00</td>\n",
       "      <td>374.00</td>\n",
       "      <td>The Hunger Games (The Hunger Games, #1)</td>\n",
       "      <td>4942365</td>\n",
       "      <td>155254</td>\n",
       "      <td>The Hunger Games</td>\n",
       "      <td>True</td>\n",
       "    </tr>\n",
       "    <tr>\n",
       "      <th>1</th>\n",
       "      <td>['J.K. Rowling', 'Mary GrandPré']</td>\n",
       "      <td>4.44</td>\n",
       "      <td>2</td>\n",
       "      <td>Harry Potter's life is miserable. His parents ...</td>\n",
       "      <td>fantasy,fiction,young-adult,classics</td>\n",
       "      <td>3</td>\n",
       "      <td>eng</td>\n",
       "      <td>1997.00</td>\n",
       "      <td>309.00</td>\n",
       "      <td>Harry Potter and the Sorcerer's Stone (Harry P...</td>\n",
       "      <td>4800065</td>\n",
       "      <td>75867</td>\n",
       "      <td>Harry Potter</td>\n",
       "      <td>True</td>\n",
       "    </tr>\n",
       "    <tr>\n",
       "      <th>2</th>\n",
       "      <td>['Stephenie Meyer']</td>\n",
       "      <td>3.57</td>\n",
       "      <td>3</td>\n",
       "      <td>About three things I was absolutely positive.\\...</td>\n",
       "      <td>young-adult,fantasy,romance,fiction,paranormal</td>\n",
       "      <td>41865</td>\n",
       "      <td>eng</td>\n",
       "      <td>2005.00</td>\n",
       "      <td>501.00</td>\n",
       "      <td>Twilight (Twilight, #1)</td>\n",
       "      <td>3916824</td>\n",
       "      <td>95009</td>\n",
       "      <td>Twilight</td>\n",
       "      <td>True</td>\n",
       "    </tr>\n",
       "    <tr>\n",
       "      <th>3</th>\n",
       "      <td>['Harper Lee']</td>\n",
       "      <td>4.25</td>\n",
       "      <td>4</td>\n",
       "      <td>The unforgettable novel of a childhood in a sl...</td>\n",
       "      <td>classics,fiction,historical-fiction,young-adult</td>\n",
       "      <td>2657</td>\n",
       "      <td>eng</td>\n",
       "      <td>1960.00</td>\n",
       "      <td>324.00</td>\n",
       "      <td>To Kill a Mockingbird</td>\n",
       "      <td>3340896</td>\n",
       "      <td>72586</td>\n",
       "      <td>NaN</td>\n",
       "      <td>False</td>\n",
       "    </tr>\n",
       "    <tr>\n",
       "      <th>4</th>\n",
       "      <td>['F. Scott Fitzgerald']</td>\n",
       "      <td>3.89</td>\n",
       "      <td>5</td>\n",
       "      <td>Alternate Cover Edition ISBN: 0743273567 (ISBN...</td>\n",
       "      <td>classics,fiction,historical-fiction,romance</td>\n",
       "      <td>4671</td>\n",
       "      <td>eng</td>\n",
       "      <td>1925.00</td>\n",
       "      <td>200.00</td>\n",
       "      <td>The Great Gatsby</td>\n",
       "      <td>2773745</td>\n",
       "      <td>51992</td>\n",
       "      <td>NaN</td>\n",
       "      <td>False</td>\n",
       "    </tr>\n",
       "  </tbody>\n",
       "</table>\n",
       "</div>"
      ],
      "text/plain": [
       "                             authors  average_rating  book_id  \\\n",
       "0                ['Suzanne Collins']            4.34        1   \n",
       "1  ['J.K. Rowling', 'Mary GrandPré']            4.44        2   \n",
       "2                ['Stephenie Meyer']            3.57        3   \n",
       "3                     ['Harper Lee']            4.25        4   \n",
       "4            ['F. Scott Fitzgerald']            3.89        5   \n",
       "\n",
       "                                         description  \\\n",
       "0  WINNING MEANS FAME AND FORTUNE.LOSING MEANS CE...   \n",
       "1  Harry Potter's life is miserable. His parents ...   \n",
       "2  About three things I was absolutely positive.\\...   \n",
       "3  The unforgettable novel of a childhood in a sl...   \n",
       "4  Alternate Cover Edition ISBN: 0743273567 (ISBN...   \n",
       "\n",
       "                                              genres  goodreads_book_id  \\\n",
       "0  young-adult,fiction,fantasy,science-fiction,ro...            2767052   \n",
       "1               fantasy,fiction,young-adult,classics                  3   \n",
       "2     young-adult,fantasy,romance,fiction,paranormal              41865   \n",
       "3    classics,fiction,historical-fiction,young-adult               2657   \n",
       "4        classics,fiction,historical-fiction,romance               4671   \n",
       "\n",
       "  language_code  original_publication_year  pages  \\\n",
       "0           eng                    2008.00 374.00   \n",
       "1           eng                    1997.00 309.00   \n",
       "2           eng                    2005.00 501.00   \n",
       "3           eng                    1960.00 324.00   \n",
       "4           eng                    1925.00 200.00   \n",
       "\n",
       "                                               title  work_ratings_count  \\\n",
       "0            The Hunger Games (The Hunger Games, #1)             4942365   \n",
       "1  Harry Potter and the Sorcerer's Stone (Harry P...             4800065   \n",
       "2                            Twilight (Twilight, #1)             3916824   \n",
       "3                              To Kill a Mockingbird             3340896   \n",
       "4                                   The Great Gatsby             2773745   \n",
       "\n",
       "   work_text_reviews_count            series  in_series  \n",
       "0                   155254  The Hunger Games       True  \n",
       "1                    75867      Harry Potter       True  \n",
       "2                    95009          Twilight       True  \n",
       "3                    72586               NaN      False  \n",
       "4                    51992               NaN      False  "
      ]
     },
     "execution_count": 23,
     "metadata": {},
     "output_type": "execute_result"
    }
   ],
   "source": [
    "df_clean_books.head()"
   ]
  },
  {
   "cell_type": "markdown",
   "id": "3e385314",
   "metadata": {},
   "source": [
    "#### Title"
   ]
  },
  {
   "cell_type": "code",
   "execution_count": 24,
   "id": "b55e3909",
   "metadata": {},
   "outputs": [],
   "source": [
    "#extract titles with words that indicate a boxed set\n",
    "boxsets = df_clean_books.loc[df_clean_books.title.str.contains('box set|boxed set|Boxed Set|Box Set|#1-|vol.set|#2-|volumes|complete collection|Complete Collection|Vol. Set|Complete Set|Vols|Volume Set|Books 1-|Ultimate Collection'),:]"
   ]
  },
  {
   "cell_type": "code",
   "execution_count": 25,
   "id": "58881aee",
   "metadata": {},
   "outputs": [],
   "source": [
    "#drop boxed sets as these are a repeat of individual books and will distort analysis on number of pages and author ratings\n",
    "df_clean_books.drop(boxsets.index, inplace=True)"
   ]
  },
  {
   "cell_type": "code",
   "execution_count": 26,
   "id": "93f46bc6",
   "metadata": {},
   "outputs": [],
   "source": [
    "#remove series name from title\n",
    "df_clean_books['title_clean'] = df_clean_books['title'].str.split('(').str[0]"
   ]
  },
  {
   "cell_type": "markdown",
   "id": "58fd6d6a",
   "metadata": {},
   "source": [
    "#### Publication year"
   ]
  },
  {
   "cell_type": "code",
   "execution_count": 27,
   "id": "60fe3888",
   "metadata": {},
   "outputs": [
    {
     "data": {
      "image/png": "[encoded data removed]",
      "text/plain": [
       "<Figure size 432x288 with 2 Axes>"
      ]
     },
     "metadata": {},
     "output_type": "display_data"
    }
   ],
   "source": [
    "#bins are split by total number of rows\n",
    "col = 'original_publication_year'\n",
    "sns.set_style('white') \n",
    "breaks = np.quantile(df_clean_books[col], q=np.linspace(0, 1, 11))\n",
    "groups = df_clean_books.groupby([pd.cut(df_clean_books[col], bins=breaks, duplicates='drop')])['average_rating'].agg(['mean','median','size'])\n",
    "fig, ax = plt.subplots()\n",
    "plt.title('Publication year vs Average Rating', weight='bold').set_fontsize('15')\n",
    "groups[[\"mean\", \"median\"]].plot(kind=\"line\", ax=ax)\n",
    "groups[\"size\"].plot(kind=\"bar\", ax=ax, rot=45, secondary_y=True, color=\"grey\", alpha=0.3, grid=False)\n",
    "ax.set(ylabel='average_rating')\n",
    "ax.right_ax.set_ylabel(\"Observazions in each bin\")\n",
    "plt.show()"
   ]
  },
  {
   "cell_type": "code",
   "execution_count": 28,
   "id": "10379b22",
   "metadata": {},
   "outputs": [
    {
     "data": {
      "image/png": "[encoded data removed]",
      "text/plain": [
       "<Figure size 432x288 with 2 Axes>"
      ]
     },
     "metadata": {},
     "output_type": "display_data"
    }
   ],
   "source": [
    "#bins are split by unique occurences of year\n",
    "col = 'original_publication_year'\n",
    "sns.set_style('white') \n",
    "breaks = np.quantile(df_clean_books[col].unique(), q=np.linspace(0, 1, 16))\n",
    "groups = df_clean_books.groupby([pd.cut(df_clean_books[col], bins=breaks, duplicates='drop')])['average_rating'].agg(['mean','median','size'])\n",
    "fig, ax = plt.subplots()\n",
    "plt.title('Publication year vs Average Rating', weight='bold').set_fontsize('15')\n",
    "groups[[\"mean\", \"median\"]].plot(kind=\"line\", ax=ax)\n",
    "groups[\"size\"].plot(kind=\"bar\", ax=ax, rot=45, secondary_y=True, color=\"grey\", alpha=0.3, grid=False)\n",
    "ax.set(ylabel='average_rating')\n",
    "ax.right_ax.set_ylabel(\"Observazions in each bin\")\n",
    "plt.show()"
   ]
  },
  {
   "cell_type": "code",
   "execution_count": 29,
   "id": "da2361f4",
   "metadata": {},
   "outputs": [],
   "source": [
    "#group years befo 1800 to 'Before 1800'\n",
    "df_clean_books['original_publication_year'] = df_clean_books['original_publication_year'].apply(lambda x: 'before 1800' if x < 1800 else x)"
   ]
  },
  {
   "cell_type": "markdown",
   "id": "3f1da991",
   "metadata": {},
   "source": [
    "#### Language code"
   ]
  },
  {
   "cell_type": "code",
   "execution_count": 30,
   "id": "a3c98fa0",
   "metadata": {},
   "outputs": [
    {
     "data": {
      "text/plain": [
       "eng    9586\n",
       "ara      64\n",
       "de       33\n",
       "fre      25\n",
       "ind      21\n",
       "es       20\n",
       "spa      20\n",
       "fr       16\n",
       "it       13\n",
       "ger      13\n",
       "nl        7\n",
       "da        7\n",
       "per       7\n",
       "ro        7\n",
       "jpn       7\n",
       "sv        6\n",
       "pl        6\n",
       "pol       6\n",
       "por       6\n",
       "ms        3\n",
       "nor       3\n",
       "dan       3\n",
       "mt        3\n",
       "fil       2\n",
       "ita       2\n",
       "cs        2\n",
       "vie       1\n",
       "mul       1\n",
       "fi        1\n",
       "lt        1\n",
       "rus       1\n",
       "zh        1\n",
       "no        1\n",
       "id        1\n",
       "rum       1\n",
       "swe       1\n",
       "is        1\n",
       "tur       1\n",
       "hu        1\n",
       "et        1\n",
       "Name: language_code, dtype: int64"
      ]
     },
     "execution_count": 30,
     "metadata": {},
     "output_type": "execute_result"
    }
   ],
   "source": [
    "df_clean_books['language_code'].value_counts()"
   ]
  },
  {
   "cell_type": "code",
   "execution_count": 31,
   "id": "bdf5d91b",
   "metadata": {},
   "outputs": [],
   "source": [
    "#group language with <10 rows to 'other'\n",
    "df_clean_books['language_code'] = df_clean_books['language_code'].apply(lambda x: 'other' if df_clean_books['language_code'].value_counts()[x] < 10 else x)"
   ]
  },
  {
   "cell_type": "markdown",
   "id": "1d138dda",
   "metadata": {},
   "source": [
    "#### Author"
   ]
  },
  {
   "cell_type": "code",
   "execution_count": 32,
   "id": "b5a4a161",
   "metadata": {},
   "outputs": [
    {
     "data": {
      "text/plain": [
       "['Stephen King']                      58\n",
       "['Nora Roberts']                      46\n",
       "['Terry Pratchett']                   40\n",
       "['Agatha Christie']                   38\n",
       "['Dean Koontz']                       34\n",
       "                                      ..\n",
       "['Beth Fantaskey']                     1\n",
       "['Caitlin Doughty']                    1\n",
       "['Joe Hill', 'Christopher Golden']     1\n",
       "['Grace Lin']                          1\n",
       "['[John Keegan]']                      1\n",
       "Name: authors, Length: 5040, dtype: int64"
      ]
     },
     "execution_count": 32,
     "metadata": {},
     "output_type": "execute_result"
    }
   ],
   "source": [
    "df_clean_books['authors'].value_counts()"
   ]
  },
  {
   "cell_type": "code",
   "execution_count": 33,
   "id": "97294398",
   "metadata": {},
   "outputs": [],
   "source": [
    "def clean_text(column):\n",
    "    new_text = []\n",
    "    for c in column:\n",
    "        c = c.replace(\"['\", \"\") \n",
    "        c = c.replace(\"']\", \"\")\n",
    "        c = c.replace(\"]\", \"\")\n",
    "        c = c.replace(\"[\", \"\")\n",
    "        c = c.split(\"', '\")[0]\n",
    "        new_text.append(c)\n",
    "    \n",
    "    return new_text\n",
    "\n",
    "df_clean_books['keyauthor'] = clean_text(df_clean_books['authors'])"
   ]
  },
  {
   "cell_type": "code",
   "execution_count": 34,
   "id": "223b4c7f",
   "metadata": {},
   "outputs": [
    {
     "data": {
      "text/html": [
       "<div>\n",
       "<style scoped>\n",
       "    .dataframe tbody tr th:only-of-type {\n",
       "        vertical-align: middle;\n",
       "    }\n",
       "\n",
       "    .dataframe tbody tr th {\n",
       "        vertical-align: top;\n",
       "    }\n",
       "\n",
       "    .dataframe thead th {\n",
       "        text-align: right;\n",
       "    }\n",
       "</style>\n",
       "<table border=\"1\" class=\"dataframe\">\n",
       "  <thead>\n",
       "    <tr style=\"text-align: right;\">\n",
       "      <th></th>\n",
       "      <th>authors</th>\n",
       "      <th>average_rating</th>\n",
       "      <th>book_id</th>\n",
       "      <th>description</th>\n",
       "      <th>genres</th>\n",
       "      <th>goodreads_book_id</th>\n",
       "      <th>language_code</th>\n",
       "      <th>original_publication_year</th>\n",
       "      <th>pages</th>\n",
       "      <th>title</th>\n",
       "      <th>work_ratings_count</th>\n",
       "      <th>work_text_reviews_count</th>\n",
       "      <th>series</th>\n",
       "      <th>in_series</th>\n",
       "      <th>title_clean</th>\n",
       "      <th>keyauthor</th>\n",
       "    </tr>\n",
       "  </thead>\n",
       "  <tbody>\n",
       "    <tr>\n",
       "      <th>0</th>\n",
       "      <td>['Suzanne Collins']</td>\n",
       "      <td>4.34</td>\n",
       "      <td>1</td>\n",
       "      <td>WINNING MEANS FAME AND FORTUNE.LOSING MEANS CE...</td>\n",
       "      <td>young-adult,fiction,fantasy,science-fiction,ro...</td>\n",
       "      <td>2767052</td>\n",
       "      <td>eng</td>\n",
       "      <td>2008.00</td>\n",
       "      <td>374.00</td>\n",
       "      <td>The Hunger Games (The Hunger Games, #1)</td>\n",
       "      <td>4942365</td>\n",
       "      <td>155254</td>\n",
       "      <td>The Hunger Games</td>\n",
       "      <td>True</td>\n",
       "      <td>The Hunger Games</td>\n",
       "      <td>Suzanne Collins</td>\n",
       "    </tr>\n",
       "    <tr>\n",
       "      <th>1</th>\n",
       "      <td>['J.K. Rowling', 'Mary GrandPré']</td>\n",
       "      <td>4.44</td>\n",
       "      <td>2</td>\n",
       "      <td>Harry Potter's life is miserable. His parents ...</td>\n",
       "      <td>fantasy,fiction,young-adult,classics</td>\n",
       "      <td>3</td>\n",
       "      <td>eng</td>\n",
       "      <td>1997.00</td>\n",
       "      <td>309.00</td>\n",
       "      <td>Harry Potter and the Sorcerer's Stone (Harry P...</td>\n",
       "      <td>4800065</td>\n",
       "      <td>75867</td>\n",
       "      <td>Harry Potter</td>\n",
       "      <td>True</td>\n",
       "      <td>Harry Potter and the Sorcerer's Stone</td>\n",
       "      <td>J.K. Rowling</td>\n",
       "    </tr>\n",
       "    <tr>\n",
       "      <th>2</th>\n",
       "      <td>['Stephenie Meyer']</td>\n",
       "      <td>3.57</td>\n",
       "      <td>3</td>\n",
       "      <td>About three things I was absolutely positive.\\...</td>\n",
       "      <td>young-adult,fantasy,romance,fiction,paranormal</td>\n",
       "      <td>41865</td>\n",
       "      <td>eng</td>\n",
       "      <td>2005.00</td>\n",
       "      <td>501.00</td>\n",
       "      <td>Twilight (Twilight, #1)</td>\n",
       "      <td>3916824</td>\n",
       "      <td>95009</td>\n",
       "      <td>Twilight</td>\n",
       "      <td>True</td>\n",
       "      <td>Twilight</td>\n",
       "      <td>Stephenie Meyer</td>\n",
       "    </tr>\n",
       "    <tr>\n",
       "      <th>3</th>\n",
       "      <td>['Harper Lee']</td>\n",
       "      <td>4.25</td>\n",
       "      <td>4</td>\n",
       "      <td>The unforgettable novel of a childhood in a sl...</td>\n",
       "      <td>classics,fiction,historical-fiction,young-adult</td>\n",
       "      <td>2657</td>\n",
       "      <td>eng</td>\n",
       "      <td>1960.00</td>\n",
       "      <td>324.00</td>\n",
       "      <td>To Kill a Mockingbird</td>\n",
       "      <td>3340896</td>\n",
       "      <td>72586</td>\n",
       "      <td>NaN</td>\n",
       "      <td>False</td>\n",
       "      <td>To Kill a Mockingbird</td>\n",
       "      <td>Harper Lee</td>\n",
       "    </tr>\n",
       "    <tr>\n",
       "      <th>4</th>\n",
       "      <td>['F. Scott Fitzgerald']</td>\n",
       "      <td>3.89</td>\n",
       "      <td>5</td>\n",
       "      <td>Alternate Cover Edition ISBN: 0743273567 (ISBN...</td>\n",
       "      <td>classics,fiction,historical-fiction,romance</td>\n",
       "      <td>4671</td>\n",
       "      <td>eng</td>\n",
       "      <td>1925.00</td>\n",
       "      <td>200.00</td>\n",
       "      <td>The Great Gatsby</td>\n",
       "      <td>2773745</td>\n",
       "      <td>51992</td>\n",
       "      <td>NaN</td>\n",
       "      <td>False</td>\n",
       "      <td>The Great Gatsby</td>\n",
       "      <td>F. Scott Fitzgerald</td>\n",
       "    </tr>\n",
       "  </tbody>\n",
       "</table>\n",
       "</div>"
      ],
      "text/plain": [
       "                             authors  average_rating  book_id  \\\n",
       "0                ['Suzanne Collins']            4.34        1   \n",
       "1  ['J.K. Rowling', 'Mary GrandPré']            4.44        2   \n",
       "2                ['Stephenie Meyer']            3.57        3   \n",
       "3                     ['Harper Lee']            4.25        4   \n",
       "4            ['F. Scott Fitzgerald']            3.89        5   \n",
       "\n",
       "                                         description  \\\n",
       "0  WINNING MEANS FAME AND FORTUNE.LOSING MEANS CE...   \n",
       "1  Harry Potter's life is miserable. His parents ...   \n",
       "2  About three things I was absolutely positive.\\...   \n",
       "3  The unforgettable novel of a childhood in a sl...   \n",
       "4  Alternate Cover Edition ISBN: 0743273567 (ISBN...   \n",
       "\n",
       "                                              genres  goodreads_book_id  \\\n",
       "0  young-adult,fiction,fantasy,science-fiction,ro...            2767052   \n",
       "1               fantasy,fiction,young-adult,classics                  3   \n",
       "2     young-adult,fantasy,romance,fiction,paranormal              41865   \n",
       "3    classics,fiction,historical-fiction,young-adult               2657   \n",
       "4        classics,fiction,historical-fiction,romance               4671   \n",
       "\n",
       "  language_code original_publication_year  pages  \\\n",
       "0           eng                   2008.00 374.00   \n",
       "1           eng                   1997.00 309.00   \n",
       "2           eng                   2005.00 501.00   \n",
       "3           eng                   1960.00 324.00   \n",
       "4           eng                   1925.00 200.00   \n",
       "\n",
       "                                               title  work_ratings_count  \\\n",
       "0            The Hunger Games (The Hunger Games, #1)             4942365   \n",
       "1  Harry Potter and the Sorcerer's Stone (Harry P...             4800065   \n",
       "2                            Twilight (Twilight, #1)             3916824   \n",
       "3                              To Kill a Mockingbird             3340896   \n",
       "4                                   The Great Gatsby             2773745   \n",
       "\n",
       "   work_text_reviews_count            series  in_series  \\\n",
       "0                   155254  The Hunger Games       True   \n",
       "1                    75867      Harry Potter       True   \n",
       "2                    95009          Twilight       True   \n",
       "3                    72586               NaN      False   \n",
       "4                    51992               NaN      False   \n",
       "\n",
       "                              title_clean            keyauthor  \n",
       "0                       The Hunger Games       Suzanne Collins  \n",
       "1  Harry Potter and the Sorcerer's Stone          J.K. Rowling  \n",
       "2                               Twilight       Stephenie Meyer  \n",
       "3                   To Kill a Mockingbird           Harper Lee  \n",
       "4                        The Great Gatsby  F. Scott Fitzgerald  "
      ]
     },
     "execution_count": 34,
     "metadata": {},
     "output_type": "execute_result"
    }
   ],
   "source": [
    "df_clean_books.head()"
   ]
  },
  {
   "cell_type": "markdown",
   "id": "7bc6fc78",
   "metadata": {},
   "source": [
    "## EDA"
   ]
  },
  {
   "cell_type": "code",
   "execution_count": 35,
   "id": "f25efeff",
   "metadata": {},
   "outputs": [],
   "source": [
    "df_books = df_clean_books.copy()\n",
    "df_ratings = df_clean_ratings.copy()"
   ]
  },
  {
   "cell_type": "markdown",
   "id": "8c8ce736",
   "metadata": {},
   "source": [
    "### Series"
   ]
  },
  {
   "cell_type": "markdown",
   "id": "fb6aa4d0",
   "metadata": {},
   "source": [
    "Books which are part of a series tend to have a higher average rating than books which are not, and ratings rarely go below 3. This sounds logicial since a book with a low rating is not likely to have a continuation."
   ]
  },
  {
   "cell_type": "code",
   "execution_count": 36,
   "id": "d54ec0fc",
   "metadata": {},
   "outputs": [
    {
     "data": {
      "text/plain": [
       "Text(0.5, 0, 'In series')"
      ]
     },
     "execution_count": 36,
     "metadata": {},
     "output_type": "execute_result"
    },
    {
     "data": {
      "image/png": "[encoded data removed]",
      "text/plain": [
       "<Figure size 432x288 with 1 Axes>"
      ]
     },
     "metadata": {},
     "output_type": "display_data"
    }
   ],
   "source": [
    "sns.boxplot(x='in_series', y='average_rating', data=df_books)\n",
    "#plt.xticks((0, 1), ('No', 'Yes'))\n",
    "plt.xlabel('In series')"
   ]
  },
  {
   "cell_type": "markdown",
   "id": "4910253d",
   "metadata": {},
   "source": [
    "### Pages"
   ]
  },
  {
   "cell_type": "code",
   "execution_count": 37,
   "id": "c1c9baa5",
   "metadata": {
    "scrolled": true
   },
   "outputs": [
    {
     "data": {
      "text/plain": [
       "<matplotlib.collections.PathCollection at 0x1cfe7271b80>"
      ]
     },
     "execution_count": 37,
     "metadata": {},
     "output_type": "execute_result"
    },
    {
     "data": {
      "image/png": "[encoded data removed]",
      "text/plain": [
       "<Figure size 432x288 with 1 Axes>"
      ]
     },
     "metadata": {},
     "output_type": "display_data"
    }
   ],
   "source": [
    "plt.scatter(x='pages', y='average_rating', data=df_books)"
   ]
  },
  {
   "cell_type": "markdown",
   "id": "2af6bdcd",
   "metadata": {},
   "source": [
    "### What influences a book's rating?\n",
    "Correlations are rather small , which indicate that there are no strong relationships between average rating and other features like number of ratings or number of reviews. This could mean that the rating could depend on other features like writing style or strength of plot."
   ]
  },
  {
   "cell_type": "code",
   "execution_count": 38,
   "id": "f9ac7461",
   "metadata": {
    "scrolled": false
   },
   "outputs": [
    {
     "data": {
      "text/plain": [
       "<AxesSubplot:>"
      ]
     },
     "execution_count": 38,
     "metadata": {},
     "output_type": "execute_result"
    },
    {
     "data": {
      "image/png": "[encoded data removed]",
      "text/plain": [
       "<Figure size 576x576 with 2 Axes>"
      ]
     },
     "metadata": {},
     "output_type": "display_data"
    }
   ],
   "source": [
    "to_drop = ['book_id', 'goodreads_book_id']\n",
    "plt.figure(figsize=(8, 8))\n",
    "mask = np.triu(np.ones_like(df_books.drop(to_drop, axis=1).corr(), dtype=bool))\n",
    "sns.heatmap(df_books.drop(to_drop, axis=1).corr(),\n",
    "            cmap='RdYlGn', fmt='.2f', vmax=1.0, vmin=-1.0, linewidth=0.1, annot=True, annot_kws={\"size\": 10}, square=True)"
   ]
  },
  {
   "cell_type": "code",
   "execution_count": 39,
   "id": "d96748ca",
   "metadata": {
    "scrolled": true
   },
   "outputs": [
    {
     "data": {
      "text/plain": [
       "<seaborn.axisgrid.PairGrid at 0x1cf801ad850>"
      ]
     },
     "execution_count": 39,
     "metadata": {},
     "output_type": "execute_result"
    },
    {
     "data": {
      "image/png": "[encoded data removed]",
      "text/plain": [
       "<Figure size 720x720 with 20 Axes>"
      ]
     },
     "metadata": {},
     "output_type": "display_data"
    }
   ],
   "source": [
    "to_drop = ['book_id', 'goodreads_book_id']\n",
    "\n",
    "sns.pairplot(df_books.select_dtypes(include = ['number']).drop(to_drop, axis=1))"
   ]
  },
  {
   "cell_type": "markdown",
   "id": "cc627ab2",
   "metadata": {},
   "source": [
    "### Top 10 books with highest average rating"
   ]
  },
  {
   "cell_type": "code",
   "execution_count": 40,
   "id": "a1248971",
   "metadata": {},
   "outputs": [
    {
     "data": {
      "text/html": [
       "<div>\n",
       "<style scoped>\n",
       "    .dataframe tbody tr th:only-of-type {\n",
       "        vertical-align: middle;\n",
       "    }\n",
       "\n",
       "    .dataframe tbody tr th {\n",
       "        vertical-align: top;\n",
       "    }\n",
       "\n",
       "    .dataframe thead th {\n",
       "        text-align: right;\n",
       "    }\n",
       "</style>\n",
       "<table border=\"1\" class=\"dataframe\">\n",
       "  <thead>\n",
       "    <tr style=\"text-align: right;\">\n",
       "      <th></th>\n",
       "      <th>average_rating</th>\n",
       "      <th>work_ratings_count</th>\n",
       "    </tr>\n",
       "    <tr>\n",
       "      <th>title</th>\n",
       "      <th></th>\n",
       "      <th></th>\n",
       "    </tr>\n",
       "  </thead>\n",
       "  <tbody>\n",
       "    <tr>\n",
       "      <th>The Complete Calvin and Hobbes</th>\n",
       "      <td>4.82</td>\n",
       "      <td>29968</td>\n",
       "    </tr>\n",
       "    <tr>\n",
       "      <th>Words of Radiance (The Stormlight Archive, #2)</th>\n",
       "      <td>4.77</td>\n",
       "      <td>108176</td>\n",
       "    </tr>\n",
       "    <tr>\n",
       "      <th>ESV Study Bible</th>\n",
       "      <td>4.76</td>\n",
       "      <td>10784</td>\n",
       "    </tr>\n",
       "    <tr>\n",
       "      <th>Mark of the Lion Trilogy</th>\n",
       "      <td>4.76</td>\n",
       "      <td>9547</td>\n",
       "    </tr>\n",
       "    <tr>\n",
       "      <th>It's a Magical World: A Calvin and Hobbes Collection</th>\n",
       "      <td>4.75</td>\n",
       "      <td>23429</td>\n",
       "    </tr>\n",
       "    <tr>\n",
       "      <th>There's Treasure Everywhere: A Calvin and Hobbes Collection</th>\n",
       "      <td>4.74</td>\n",
       "      <td>17285</td>\n",
       "    </tr>\n",
       "    <tr>\n",
       "      <th>The Authoritative Calvin and Hobbes: A Calvin and Hobbes Treasury</th>\n",
       "      <td>4.73</td>\n",
       "      <td>18198</td>\n",
       "    </tr>\n",
       "    <tr>\n",
       "      <th>The Indispensable Calvin and Hobbes</th>\n",
       "      <td>4.73</td>\n",
       "      <td>16911</td>\n",
       "    </tr>\n",
       "    <tr>\n",
       "      <th>A Court of Mist and Fury (A Court of Thorns and Roses, #2)</th>\n",
       "      <td>4.72</td>\n",
       "      <td>126491</td>\n",
       "    </tr>\n",
       "    <tr>\n",
       "      <th>Attack of the Deranged Mutant Killer Monster Snow Goons</th>\n",
       "      <td>4.72</td>\n",
       "      <td>12197</td>\n",
       "    </tr>\n",
       "  </tbody>\n",
       "</table>\n",
       "</div>"
      ],
      "text/plain": [
       "                                                    average_rating  \\\n",
       "title                                                                \n",
       "The Complete Calvin and Hobbes                                4.82   \n",
       "Words of Radiance (The Stormlight Archive, #2)                4.77   \n",
       "ESV Study Bible                                               4.76   \n",
       "Mark of the Lion Trilogy                                      4.76   \n",
       "It's a Magical World: A Calvin and Hobbes Colle...            4.75   \n",
       "There's Treasure Everywhere: A Calvin and Hobbe...            4.74   \n",
       "The Authoritative Calvin and Hobbes: A Calvin a...            4.73   \n",
       "The Indispensable Calvin and Hobbes                           4.73   \n",
       "A Court of Mist and Fury (A Court of Thorns and...            4.72   \n",
       "Attack of the Deranged Mutant Killer Monster Sn...            4.72   \n",
       "\n",
       "                                                    work_ratings_count  \n",
       "title                                                                   \n",
       "The Complete Calvin and Hobbes                                   29968  \n",
       "Words of Radiance (The Stormlight Archive, #2)                  108176  \n",
       "ESV Study Bible                                                  10784  \n",
       "Mark of the Lion Trilogy                                          9547  \n",
       "It's a Magical World: A Calvin and Hobbes Colle...               23429  \n",
       "There's Treasure Everywhere: A Calvin and Hobbe...               17285  \n",
       "The Authoritative Calvin and Hobbes: A Calvin a...               18198  \n",
       "The Indispensable Calvin and Hobbes                              16911  \n",
       "A Court of Mist and Fury (A Court of Thorns and...              126491  \n",
       "Attack of the Deranged Mutant Killer Monster Sn...               12197  "
      ]
     },
     "execution_count": 40,
     "metadata": {},
     "output_type": "execute_result"
    }
   ],
   "source": [
    "df_books.sort_values('average_rating', ascending = False).loc[:, ('title','average_rating', 'work_ratings_count')].head(10).set_index('title')"
   ]
  },
  {
   "cell_type": "markdown",
   "id": "3103ea4d",
   "metadata": {},
   "source": [
    "### Top 10 books with highest rating count"
   ]
  },
  {
   "cell_type": "code",
   "execution_count": 41,
   "id": "3a29afa3",
   "metadata": {
    "scrolled": true
   },
   "outputs": [
    {
     "data": {
      "text/html": [
       "<div>\n",
       "<style scoped>\n",
       "    .dataframe tbody tr th:only-of-type {\n",
       "        vertical-align: middle;\n",
       "    }\n",
       "\n",
       "    .dataframe tbody tr th {\n",
       "        vertical-align: top;\n",
       "    }\n",
       "\n",
       "    .dataframe thead th {\n",
       "        text-align: right;\n",
       "    }\n",
       "</style>\n",
       "<table border=\"1\" class=\"dataframe\">\n",
       "  <thead>\n",
       "    <tr style=\"text-align: right;\">\n",
       "      <th></th>\n",
       "      <th>work_ratings_count</th>\n",
       "      <th>average_rating</th>\n",
       "    </tr>\n",
       "    <tr>\n",
       "      <th>title</th>\n",
       "      <th></th>\n",
       "      <th></th>\n",
       "    </tr>\n",
       "  </thead>\n",
       "  <tbody>\n",
       "    <tr>\n",
       "      <th>The Hunger Games (The Hunger Games, #1)</th>\n",
       "      <td>4942365</td>\n",
       "      <td>4.34</td>\n",
       "    </tr>\n",
       "    <tr>\n",
       "      <th>Harry Potter and the Sorcerer's Stone (Harry Potter, #1)</th>\n",
       "      <td>4800065</td>\n",
       "      <td>4.44</td>\n",
       "    </tr>\n",
       "    <tr>\n",
       "      <th>Twilight (Twilight, #1)</th>\n",
       "      <td>3916824</td>\n",
       "      <td>3.57</td>\n",
       "    </tr>\n",
       "    <tr>\n",
       "      <th>To Kill a Mockingbird</th>\n",
       "      <td>3340896</td>\n",
       "      <td>4.25</td>\n",
       "    </tr>\n",
       "    <tr>\n",
       "      <th>The Great Gatsby</th>\n",
       "      <td>2773745</td>\n",
       "      <td>3.89</td>\n",
       "    </tr>\n",
       "    <tr>\n",
       "      <th>The Fault in Our Stars</th>\n",
       "      <td>2478609</td>\n",
       "      <td>4.26</td>\n",
       "    </tr>\n",
       "    <tr>\n",
       "      <th>Divergent (Divergent, #1)</th>\n",
       "      <td>2216814</td>\n",
       "      <td>4.24</td>\n",
       "    </tr>\n",
       "    <tr>\n",
       "      <th>The Hobbit</th>\n",
       "      <td>2196809</td>\n",
       "      <td>4.25</td>\n",
       "    </tr>\n",
       "    <tr>\n",
       "      <th>Pride and Prejudice</th>\n",
       "      <td>2191465</td>\n",
       "      <td>4.24</td>\n",
       "    </tr>\n",
       "    <tr>\n",
       "      <th>The Catcher in the Rye</th>\n",
       "      <td>2120637</td>\n",
       "      <td>3.79</td>\n",
       "    </tr>\n",
       "  </tbody>\n",
       "</table>\n",
       "</div>"
      ],
      "text/plain": [
       "                                                    work_ratings_count  \\\n",
       "title                                                                    \n",
       "The Hunger Games (The Hunger Games, #1)                        4942365   \n",
       "Harry Potter and the Sorcerer's Stone (Harry Po...             4800065   \n",
       "Twilight (Twilight, #1)                                        3916824   \n",
       "To Kill a Mockingbird                                          3340896   \n",
       "The Great Gatsby                                               2773745   \n",
       "The Fault in Our Stars                                         2478609   \n",
       "Divergent (Divergent, #1)                                      2216814   \n",
       "The Hobbit                                                     2196809   \n",
       "Pride and Prejudice                                            2191465   \n",
       "The Catcher in the Rye                                         2120637   \n",
       "\n",
       "                                                    average_rating  \n",
       "title                                                               \n",
       "The Hunger Games (The Hunger Games, #1)                       4.34  \n",
       "Harry Potter and the Sorcerer's Stone (Harry Po...            4.44  \n",
       "Twilight (Twilight, #1)                                       3.57  \n",
       "To Kill a Mockingbird                                         4.25  \n",
       "The Great Gatsby                                              3.89  \n",
       "The Fault in Our Stars                                        4.26  \n",
       "Divergent (Divergent, #1)                                     4.24  \n",
       "The Hobbit                                                    4.25  \n",
       "Pride and Prejudice                                           4.24  \n",
       "The Catcher in the Rye                                        3.79  "
      ]
     },
     "execution_count": 41,
     "metadata": {},
     "output_type": "execute_result"
    }
   ],
   "source": [
    "df_books.sort_values('work_ratings_count', ascending = False).loc[:, ('title','work_ratings_count', 'average_rating')].head(10).set_index('title')"
   ]
  },
  {
   "cell_type": "markdown",
   "id": "b843e7d5",
   "metadata": {},
   "source": [
    "### Top 10 books with highest review count"
   ]
  },
  {
   "cell_type": "code",
   "execution_count": 42,
   "id": "3ecda34c",
   "metadata": {
    "scrolled": true
   },
   "outputs": [
    {
     "data": {
      "text/html": [
       "<div>\n",
       "<style scoped>\n",
       "    .dataframe tbody tr th:only-of-type {\n",
       "        vertical-align: middle;\n",
       "    }\n",
       "\n",
       "    .dataframe tbody tr th {\n",
       "        vertical-align: top;\n",
       "    }\n",
       "\n",
       "    .dataframe thead th {\n",
       "        text-align: right;\n",
       "    }\n",
       "</style>\n",
       "<table border=\"1\" class=\"dataframe\">\n",
       "  <thead>\n",
       "    <tr style=\"text-align: right;\">\n",
       "      <th></th>\n",
       "      <th>work_text_reviews_count</th>\n",
       "      <th>work_ratings_count</th>\n",
       "      <th>average_rating</th>\n",
       "    </tr>\n",
       "    <tr>\n",
       "      <th>title</th>\n",
       "      <th></th>\n",
       "      <th></th>\n",
       "      <th></th>\n",
       "    </tr>\n",
       "  </thead>\n",
       "  <tbody>\n",
       "    <tr>\n",
       "      <th>The Hunger Games (The Hunger Games, #1)</th>\n",
       "      <td>155254</td>\n",
       "      <td>4942365</td>\n",
       "      <td>4.34</td>\n",
       "    </tr>\n",
       "    <tr>\n",
       "      <th>The Fault in Our Stars</th>\n",
       "      <td>140739</td>\n",
       "      <td>2478609</td>\n",
       "      <td>4.26</td>\n",
       "    </tr>\n",
       "    <tr>\n",
       "      <th>Gone Girl</th>\n",
       "      <td>121614</td>\n",
       "      <td>1626519</td>\n",
       "      <td>4.03</td>\n",
       "    </tr>\n",
       "    <tr>\n",
       "      <th>Divergent (Divergent, #1)</th>\n",
       "      <td>101023</td>\n",
       "      <td>2216814</td>\n",
       "      <td>4.24</td>\n",
       "    </tr>\n",
       "    <tr>\n",
       "      <th>Mockingjay (The Hunger Games, #3)</th>\n",
       "      <td>96274</td>\n",
       "      <td>1870748</td>\n",
       "      <td>4.03</td>\n",
       "    </tr>\n",
       "    <tr>\n",
       "      <th>Twilight (Twilight, #1)</th>\n",
       "      <td>95009</td>\n",
       "      <td>3916824</td>\n",
       "      <td>3.57</td>\n",
       "    </tr>\n",
       "    <tr>\n",
       "      <th>The Book Thief</th>\n",
       "      <td>93611</td>\n",
       "      <td>1287798</td>\n",
       "      <td>4.36</td>\n",
       "    </tr>\n",
       "    <tr>\n",
       "      <th>The Girl on the Train</th>\n",
       "      <td>93600</td>\n",
       "      <td>1226485</td>\n",
       "      <td>3.88</td>\n",
       "    </tr>\n",
       "    <tr>\n",
       "      <th>Catching Fire (The Hunger Games, #2)</th>\n",
       "      <td>88538</td>\n",
       "      <td>1988079</td>\n",
       "      <td>4.30</td>\n",
       "    </tr>\n",
       "    <tr>\n",
       "      <th>The Help</th>\n",
       "      <td>78204</td>\n",
       "      <td>1603545</td>\n",
       "      <td>4.45</td>\n",
       "    </tr>\n",
       "  </tbody>\n",
       "</table>\n",
       "</div>"
      ],
      "text/plain": [
       "                                         work_text_reviews_count  \\\n",
       "title                                                              \n",
       "The Hunger Games (The Hunger Games, #1)                   155254   \n",
       "The Fault in Our Stars                                    140739   \n",
       "Gone Girl                                                 121614   \n",
       "Divergent (Divergent, #1)                                 101023   \n",
       "Mockingjay (The Hunger Games, #3)                          96274   \n",
       "Twilight (Twilight, #1)                                    95009   \n",
       "The Book Thief                                             93611   \n",
       "The Girl on the Train                                      93600   \n",
       "Catching Fire (The Hunger Games, #2)                       88538   \n",
       "The Help                                                   78204   \n",
       "\n",
       "                                         work_ratings_count  average_rating  \n",
       "title                                                                        \n",
       "The Hunger Games (The Hunger Games, #1)             4942365            4.34  \n",
       "The Fault in Our Stars                              2478609            4.26  \n",
       "Gone Girl                                           1626519            4.03  \n",
       "Divergent (Divergent, #1)                           2216814            4.24  \n",
       "Mockingjay (The Hunger Games, #3)                   1870748            4.03  \n",
       "Twilight (Twilight, #1)                             3916824            3.57  \n",
       "The Book Thief                                      1287798            4.36  \n",
       "The Girl on the Train                               1226485            3.88  \n",
       "Catching Fire (The Hunger Games, #2)                1988079            4.30  \n",
       "The Help                                            1603545            4.45  "
      ]
     },
     "execution_count": 42,
     "metadata": {},
     "output_type": "execute_result"
    }
   ],
   "source": [
    "df_books.sort_values('work_text_reviews_count', ascending = False).loc[:, ('title', 'work_text_reviews_count', 'work_ratings_count', 'average_rating')].head(10).set_index('title')"
   ]
  },
  {
   "cell_type": "markdown",
   "id": "98e52fac",
   "metadata": {},
   "source": [
    "#### Top 10 authors with highest average rating"
   ]
  },
  {
   "cell_type": "code",
   "execution_count": 43,
   "id": "dd5f14b8",
   "metadata": {},
   "outputs": [
    {
     "data": {
      "text/plain": [
       "Text(0, 0.5, '')"
      ]
     },
     "execution_count": 43,
     "metadata": {},
     "output_type": "execute_result"
    },
    {
     "data": {
      "image/png": "[encoded data removed]",
      "text/plain": [
       "<Figure size 432x288 with 1 Axes>"
      ]
     },
     "metadata": {},
     "output_type": "display_data"
    }
   ],
   "source": [
    "auth = df_books.groupby('keyauthor')['average_rating'].mean().sort_values().tail(10)\n",
    "auth.plot(kind='barh')\n",
    "plt.xlabel('Average rating')\n",
    "plt.title('Top 10 Authors with highest average rating', fontsize=15, weight='bold')\n",
    "plt.ylabel('')"
   ]
  },
  {
   "cell_type": "markdown",
   "id": "22e16699",
   "metadata": {},
   "source": [
    "### Top 10 authors with highest rating count"
   ]
  },
  {
   "cell_type": "code",
   "execution_count": 44,
   "id": "e4152fe3",
   "metadata": {},
   "outputs": [
    {
     "data": {
      "text/plain": [
       "Text(0, 0.5, '')"
      ]
     },
     "execution_count": 44,
     "metadata": {},
     "output_type": "execute_result"
    },
    {
     "data": {
      "image/png": "[encoded data removed]",
      "text/plain": [
       "<Figure size 432x288 with 1 Axes>"
      ]
     },
     "metadata": {},
     "output_type": "display_data"
    }
   ],
   "source": [
    "auth = df_books.groupby('keyauthor')['work_ratings_count'].mean().sort_values().tail(10)\n",
    "auth.plot(kind='barh')\n",
    "plt.xlabel('Ratings count per book')\n",
    "plt.title('Top 10 Authors with highest rating count', fontsize=15, weight='bold')\n",
    "plt.ylabel('')"
   ]
  },
  {
   "cell_type": "markdown",
   "id": "1c058483",
   "metadata": {},
   "source": [
    "### Top 10 authors with highest review count"
   ]
  },
  {
   "cell_type": "code",
   "execution_count": 45,
   "id": "4a7c1033",
   "metadata": {
    "scrolled": false
   },
   "outputs": [
    {
     "data": {
      "text/plain": [
       "Text(0, 0.5, '')"
      ]
     },
     "execution_count": 45,
     "metadata": {},
     "output_type": "execute_result"
    },
    {
     "data": {
      "image/png": "[encoded data removed]",
      "text/plain": [
       "<Figure size 432x288 with 1 Axes>"
      ]
     },
     "metadata": {},
     "output_type": "display_data"
    }
   ],
   "source": [
    "auth = df_books.groupby('keyauthor')['work_text_reviews_count'].mean().sort_values().tail(10)\n",
    "auth.plot(kind='barh')\n",
    "plt.xlabel('Review count per book')\n",
    "plt.title('Top 10 Authors with highest review count', fontsize=15, weight='bold')\n",
    "plt.ylabel('')"
   ]
  },
  {
   "cell_type": "markdown",
   "id": "76d6b6af",
   "metadata": {},
   "source": [
    "### Genre"
   ]
  },
  {
   "cell_type": "code",
   "execution_count": 46,
   "id": "bd99a6f6",
   "metadata": {
    "scrolled": true
   },
   "outputs": [
    {
     "name": "stderr",
     "output_type": "stream",
     "text": [
      "C:\\Users\\AMANDA~1\\AppData\\Local\\Temp/ipykernel_18388/1422149745.py:4: SettingWithCopyWarning: \n",
      "A value is trying to be set on a copy of a slice from a DataFrame.\n",
      "Try using .loc[row_indexer,col_indexer] = value instead\n",
      "\n",
      "See the caveats in the documentation: https://pandas.pydata.org/pandas-docs/stable/user_guide/indexing.html#returning-a-view-versus-a-copy\n",
      "  df_genre['genres'] = df_genre['genres'].str.split(',') #change column to list type\n"
     ]
    },
    {
     "data": {
      "text/html": [
       "<div>\n",
       "<style scoped>\n",
       "    .dataframe tbody tr th:only-of-type {\n",
       "        vertical-align: middle;\n",
       "    }\n",
       "\n",
       "    .dataframe tbody tr th {\n",
       "        vertical-align: top;\n",
       "    }\n",
       "\n",
       "    .dataframe thead th {\n",
       "        text-align: right;\n",
       "    }\n",
       "</style>\n",
       "<table border=\"1\" class=\"dataframe\">\n",
       "  <thead>\n",
       "    <tr style=\"text-align: right;\">\n",
       "      <th></th>\n",
       "      <th>title_clean</th>\n",
       "      <th>keyauthor</th>\n",
       "      <th>description</th>\n",
       "      <th>work_ratings_count</th>\n",
       "      <th>average_rating</th>\n",
       "      <th>genres</th>\n",
       "    </tr>\n",
       "  </thead>\n",
       "  <tbody>\n",
       "    <tr>\n",
       "      <th>0</th>\n",
       "      <td>The Hunger Games</td>\n",
       "      <td>Suzanne Collins</td>\n",
       "      <td>WINNING MEANS FAME AND FORTUNE.LOSING MEANS CE...</td>\n",
       "      <td>4942365</td>\n",
       "      <td>4.34</td>\n",
       "      <td>young-adult</td>\n",
       "    </tr>\n",
       "    <tr>\n",
       "      <th>0</th>\n",
       "      <td>The Hunger Games</td>\n",
       "      <td>Suzanne Collins</td>\n",
       "      <td>WINNING MEANS FAME AND FORTUNE.LOSING MEANS CE...</td>\n",
       "      <td>4942365</td>\n",
       "      <td>4.34</td>\n",
       "      <td>fiction</td>\n",
       "    </tr>\n",
       "    <tr>\n",
       "      <th>0</th>\n",
       "      <td>The Hunger Games</td>\n",
       "      <td>Suzanne Collins</td>\n",
       "      <td>WINNING MEANS FAME AND FORTUNE.LOSING MEANS CE...</td>\n",
       "      <td>4942365</td>\n",
       "      <td>4.34</td>\n",
       "      <td>fantasy</td>\n",
       "    </tr>\n",
       "    <tr>\n",
       "      <th>0</th>\n",
       "      <td>The Hunger Games</td>\n",
       "      <td>Suzanne Collins</td>\n",
       "      <td>WINNING MEANS FAME AND FORTUNE.LOSING MEANS CE...</td>\n",
       "      <td>4942365</td>\n",
       "      <td>4.34</td>\n",
       "      <td>science-fiction</td>\n",
       "    </tr>\n",
       "    <tr>\n",
       "      <th>0</th>\n",
       "      <td>The Hunger Games</td>\n",
       "      <td>Suzanne Collins</td>\n",
       "      <td>WINNING MEANS FAME AND FORTUNE.LOSING MEANS CE...</td>\n",
       "      <td>4942365</td>\n",
       "      <td>4.34</td>\n",
       "      <td>romance</td>\n",
       "    </tr>\n",
       "  </tbody>\n",
       "</table>\n",
       "</div>"
      ],
      "text/plain": [
       "         title_clean        keyauthor  \\\n",
       "0  The Hunger Games   Suzanne Collins   \n",
       "0  The Hunger Games   Suzanne Collins   \n",
       "0  The Hunger Games   Suzanne Collins   \n",
       "0  The Hunger Games   Suzanne Collins   \n",
       "0  The Hunger Games   Suzanne Collins   \n",
       "\n",
       "                                         description  work_ratings_count  \\\n",
       "0  WINNING MEANS FAME AND FORTUNE.LOSING MEANS CE...             4942365   \n",
       "0  WINNING MEANS FAME AND FORTUNE.LOSING MEANS CE...             4942365   \n",
       "0  WINNING MEANS FAME AND FORTUNE.LOSING MEANS CE...             4942365   \n",
       "0  WINNING MEANS FAME AND FORTUNE.LOSING MEANS CE...             4942365   \n",
       "0  WINNING MEANS FAME AND FORTUNE.LOSING MEANS CE...             4942365   \n",
       "\n",
       "   average_rating           genres  \n",
       "0            4.34      young-adult  \n",
       "0            4.34          fiction  \n",
       "0            4.34          fantasy  \n",
       "0            4.34  science-fiction  \n",
       "0            4.34          romance  "
      ]
     },
     "execution_count": 46,
     "metadata": {},
     "output_type": "execute_result"
    }
   ],
   "source": [
    "#split each genre to a separate row\n",
    "\n",
    "df_genre = df_books[['title_clean', 'keyauthor', 'description', 'work_ratings_count', 'average_rating', 'genres']]\n",
    "df_genre['genres'] = df_genre['genres'].str.split(',') #change column to list type\n",
    "df_genre = df_genre.explode('genres') #split each genre into separate rows\n",
    "df_genre.drop(df_genre[(df_genre['genres'] == 'books')].index, inplace=True)\n",
    "df_genre.head()"
   ]
  },
  {
   "cell_type": "code",
   "execution_count": 47,
   "id": "e5066d62",
   "metadata": {},
   "outputs": [
    {
     "data": {
      "text/plain": [
       "fiction               7565\n",
       "fantasy               3396\n",
       "romance               3060\n",
       "contemporary          2598\n",
       "young-adult           2518\n",
       "mystery               2176\n",
       "classics              1952\n",
       "historical-fiction    1679\n",
       "thriller              1553\n",
       "nonfiction            1491\n",
       "crime                 1265\n",
       "science-fiction       1232\n",
       "suspense              1212\n",
       "paranormal            1188\n",
       "chick-lit             1150\n",
       "horror                 762\n",
       "history                754\n",
       "biography              739\n",
       "memoir                 601\n",
       "philosophy             558\n",
       "graphic-novels         449\n",
       "psychology             434\n",
       "religion               430\n",
       "comics                 425\n",
       "self-help              379\n",
       "science                351\n",
       "spirituality           299\n",
       "christian              272\n",
       "poetry                 256\n",
       "business               245\n",
       "art                    205\n",
       "travel                 182\n",
       "manga                  143\n",
       "music                  133\n",
       "sports                 121\n",
       "cookbooks               66\n",
       "humor-and-comedy         3\n",
       "Name: genres, dtype: int64"
      ]
     },
     "execution_count": 47,
     "metadata": {},
     "output_type": "execute_result"
    }
   ],
   "source": [
    "df_genre['genres'].value_counts()"
   ]
  },
  {
   "cell_type": "code",
   "execution_count": 48,
   "id": "efef9e9e",
   "metadata": {},
   "outputs": [],
   "source": [
    "#group genres with <100 rows to 'Other'\n",
    "df_genre['genres'] = df_genre['genres'].apply(lambda x: 'other' if df_genre['genres'].value_counts()[x] < 100 else x)"
   ]
  },
  {
   "cell_type": "code",
   "execution_count": 49,
   "id": "d82dae94",
   "metadata": {},
   "outputs": [
    {
     "data": {
      "text/plain": [
       "Text(0, 0.5, '')"
      ]
     },
     "execution_count": 49,
     "metadata": {},
     "output_type": "execute_result"
    },
    {
     "data": {
      "image/png": "[encoded data removed]",
      "text/plain": [
       "<Figure size 432x288 with 1 Axes>"
      ]
     },
     "metadata": {},
     "output_type": "display_data"
    }
   ],
   "source": [
    "genre = df_genre.groupby('genres')['average_rating'].mean().sort_values().tail(10)\n",
    "genre.plot(kind='barh')\n",
    "plt.xlabel('Average rating')\n",
    "plt.title('Top 10 Genre with highest average rating', fontsize=15, weight='bold')\n",
    "plt.ylabel('')"
   ]
  },
  {
   "cell_type": "code",
   "execution_count": 50,
   "id": "b446f1bb",
   "metadata": {},
   "outputs": [
    {
     "data": {
      "text/plain": [
       "Text(0, 0.5, '')"
      ]
     },
     "execution_count": 50,
     "metadata": {},
     "output_type": "execute_result"
    },
    {
     "data": {
      "image/png": "[encoded data removed]",
      "text/plain": [
       "<Figure size 432x288 with 1 Axes>"
      ]
     },
     "metadata": {},
     "output_type": "display_data"
    }
   ],
   "source": [
    "genre = df_genre.groupby('genres')['work_ratings_count'].mean().sort_values().tail(10)\n",
    "genre.plot(kind='barh')\n",
    "plt.xlabel('Number of ratings')\n",
    "plt.title('Top 10 Genre with highest rating count', fontsize=15, weight='bold')\n",
    "plt.ylabel('')"
   ]
  },
  {
   "cell_type": "markdown",
   "id": "c0b6d003",
   "metadata": {},
   "source": [
    "### Users"
   ]
  },
  {
   "cell_type": "markdown",
   "id": "aac9da8b",
   "metadata": {},
   "source": [
    "#### Distributions"
   ]
  },
  {
   "cell_type": "code",
   "execution_count": 51,
   "id": "e85e6f3d",
   "metadata": {},
   "outputs": [
    {
     "data": {
      "text/plain": [
       "Text(0.5, 1.0, 'Distribution of Ratings')"
      ]
     },
     "execution_count": 51,
     "metadata": {},
     "output_type": "execute_result"
    },
    {
     "data": {
      "image/png": "[encoded data removed]",
      "text/plain": [
       "<Figure size 432x288 with 1 Axes>"
      ]
     },
     "metadata": {},
     "output_type": "display_data"
    }
   ],
   "source": [
    "sns.countplot(x='user_rating', data=df_ratings)\n",
    "plt.title('Distribution of Ratings')"
   ]
  },
  {
   "cell_type": "code",
   "execution_count": 52,
   "id": "489707e6",
   "metadata": {},
   "outputs": [
    {
     "data": {
      "text/plain": [
       "Text(0.5, 1.0, 'Average rating by book')"
      ]
     },
     "execution_count": 52,
     "metadata": {},
     "output_type": "execute_result"
    },
    {
     "data": {
      "image/png": "[encoded data removed]",
      "text/plain": [
       "<Figure size 432x288 with 1 Axes>"
      ]
     },
     "metadata": {},
     "output_type": "display_data"
    }
   ],
   "source": [
    "plt.hist(df_ratings.groupby('book_id')['user_rating'].mean())\n",
    "plt.title('Average rating by book')"
   ]
  },
  {
   "cell_type": "code",
   "execution_count": 53,
   "id": "35ffc749",
   "metadata": {},
   "outputs": [
    {
     "data": {
      "text/plain": [
       "Text(0.5, 1.0, 'Average rating by user')"
      ]
     },
     "execution_count": 53,
     "metadata": {},
     "output_type": "execute_result"
    },
    {
     "data": {
      "image/png": "[encoded data removed]",
      "text/plain": [
       "<Figure size 432x288 with 1 Axes>"
      ]
     },
     "metadata": {},
     "output_type": "display_data"
    }
   ],
   "source": [
    "plt.hist(df_ratings.groupby('user_id')['user_rating'].mean())\n",
    "plt.title('Average rating by user')"
   ]
  },
  {
   "cell_type": "markdown",
   "id": "112dadf1",
   "metadata": {},
   "source": [
    "#### Do number of ratings affect average rating for a book?\n",
    "It looks like this does not impact books with very few ratings, however books with many ratings are usually rated at least a 3"
   ]
  },
  {
   "cell_type": "code",
   "execution_count": 54,
   "id": "5875fe8a",
   "metadata": {
    "scrolled": true
   },
   "outputs": [
    {
     "data": {
      "text/plain": [
       "Text(0, 0.5, 'Avg rating per book')"
      ]
     },
     "execution_count": 54,
     "metadata": {},
     "output_type": "execute_result"
    },
    {
     "data": {
      "image/png": "[encoded data removed]",
      "text/plain": [
       "<Figure size 432x288 with 1 Axes>"
      ]
     },
     "metadata": {},
     "output_type": "display_data"
    }
   ],
   "source": [
    "#number of ratings and average rating for each book\n",
    "agg = {'user_id': 'count',\n",
    "       'user_rating': 'mean'}\n",
    "\n",
    "tmp = df_ratings.groupby(by='book_id').agg(agg)\n",
    "plt.scatter(x='user_id', y='user_rating', data=tmp)\n",
    "plt.xlabel('Number of ratings per book')\n",
    "plt.ylabel('Avg rating per book')"
   ]
  },
  {
   "cell_type": "markdown",
   "id": "4151cc9a",
   "metadata": {},
   "source": [
    "#### Do frequent raters rate differently?\n",
    "There is no pattern between number of books a user rates, and the average rating for the user."
   ]
  },
  {
   "cell_type": "code",
   "execution_count": 55,
   "id": "0c740dd5",
   "metadata": {
    "scrolled": false
   },
   "outputs": [
    {
     "data": {
      "text/plain": [
       "<matplotlib.collections.PathCollection at 0x1cf854d43d0>"
      ]
     },
     "execution_count": 55,
     "metadata": {},
     "output_type": "execute_result"
    },
    {
     "data": {
      "image/png": "[encoded data removed]",
      "text/plain": [
       "<Figure size 432x288 with 1 Axes>"
      ]
     },
     "metadata": {},
     "output_type": "display_data"
    }
   ],
   "source": [
    "#number of ratings and average rating for each user\n",
    "agg = {'book_id': 'count',\n",
    "       'user_rating': 'mean'}\n",
    "\n",
    "tmp = df_ratings.groupby(by='user_id').agg(agg)\n",
    "plt.scatter(x='book_id', y='user_rating', data=tmp)"
   ]
  },
  {
   "cell_type": "markdown",
   "id": "1a800f3f",
   "metadata": {},
   "source": [
    "## Export to CSV"
   ]
  },
  {
   "cell_type": "code",
   "execution_count": 56,
   "id": "ef99b482",
   "metadata": {},
   "outputs": [],
   "source": [
    "df_books.to_csv('df_books.csv', index = False)\n",
    "df_ratings.to_csv('df_ratings.csv', index = False)"
   ]
  }
 ],
 "metadata": {
  "kernelspec": {
   "display_name": "Python 3 (ipykernel)",
   "language": "python",
   "name": "python3"
  },
  "language_info": {
   "codemirror_mode": {
    "name": "ipython",
    "version": 3
   },
   "file_extension": ".py",
   "mimetype": "text/x-python",
   "name": "python",
   "nbconvert_exporter": "python",
   "pygments_lexer": "ipython3",
   "version": "3.9.7"
  }
 },
 "nbformat": 4,
 "nbformat_minor": 5
}
